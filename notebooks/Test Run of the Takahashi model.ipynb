{
 "cells": [
  {
   "cell_type": "code",
   "execution_count": 1,
   "id": "2e916d76",
   "metadata": {},
   "outputs": [],
   "source": [
    "import numpy as np\n",
    "from matplotlib import pylab as plt\n",
    "%matplotlib inline\n",
    "plt.rcParams['text.usetex'] = True\n",
    "import scipy\n",
    "from scipy import integrate as sciint\n",
    "from scipy import optimize as sciopt\n",
    "from scipy.special import kn\n",
    "import numba as nb\n",
    "import pickle\n",
    "import takahashi\n",
    "import cProfile\n",
    "\n",
    "c=2.9792458e10#cm s-1\n",
    "mev2erg = 1.0218e-6\n",
    "mpc2 = 938.72*mev2erg # erg\n",
    "pi = np.pi\n",
    "day2sec=5184000\n",
    "Mpc2cm = 3.086e+24\n",
    "cgi2mJy = 1.e26\n",
    "\n",
    "n0 = 1.e-3 #cm-3\n",
    "eps_e = 0.5\n",
    "eps_b = 0.5\n",
    "theta_v = 0.25\n",
    "theta_j = 0.3\n",
    "D_L = 41*Mpc2cm\n",
    "Gshmax = 100\n",
    "theta_G = 0.059 # Gaussian sigma for the jet\n",
    "theta_c = 0.3 # JET TRUNCATION ANGLE\n",
    "E_g = 1.16e52\n"
   ]
  },
  {
   "cell_type": "code",
   "execution_count": 2,
   "id": "bae44f38",
   "metadata": {},
   "outputs": [
    {
     "ename": "TypeError",
     "evalue": "unsupported operand type(s) for /: 'tuple' and 'int'",
     "output_type": "error",
     "traceback": [
      "\u001b[0;31m---------------------------------------------------------------------------\u001b[0m",
      "\u001b[0;31mTypeError\u001b[0m                                 Traceback (most recent call last)",
      "Input \u001b[0;32mIn [2]\u001b[0m, in \u001b[0;36m<cell line: 4>\u001b[0;34m()\u001b[0m\n\u001b[1;32m      2\u001b[0m nu \u001b[38;5;241m=\u001b[39m \u001b[38;5;241m3e9\u001b[39m\n\u001b[1;32m      3\u001b[0m res \u001b[38;5;241m=\u001b[39m takahashi\u001b[38;5;241m.\u001b[39mintegral_phi_scalar(T, nu, eps_e, eps_b, Gshmax, n0, theta_v, theta_G, theta_c, E_g)\n\u001b[0;32m----> 4\u001b[0m flux \u001b[38;5;241m=\u001b[39m \u001b[43mres\u001b[49m\u001b[43m \u001b[49m\u001b[38;5;241;43m/\u001b[39;49m\u001b[43m \u001b[49m\u001b[38;5;241;43m4\u001b[39;49m\u001b[38;5;241m/\u001b[39m pi \u001b[38;5;241m/\u001b[39m D_L\n",
      "\u001b[0;31mTypeError\u001b[0m: unsupported operand type(s) for /: 'tuple' and 'int'"
     ]
    }
   ],
   "source": [
    "T=1*day2sec\n",
    "nu = 3e9\n",
    "res = takahashi.integral_phi_scalar(T, nu, eps_e, eps_b, Gshmax, n0, theta_v, theta_G, theta_c, E_g)\n",
    "flux = res[0] / 4/ pi / D_L"
   ]
  },
  {
   "cell_type": "code",
   "execution_count": 4,
   "id": "4bf1889c",
   "metadata": {},
   "outputs": [
    {
     "data": {
      "text/plain": [
       "20533704.578981053"
      ]
     },
     "execution_count": 4,
     "metadata": {},
     "output_type": "execute_result"
    }
   ],
   "source": [
    "res[0] / 4/ pi / D_L * cgi2mJy"
   ]
  }
 ],
 "metadata": {
  "kernelspec": {
   "display_name": "Python 3 (ipykernel)",
   "language": "python",
   "name": "python3"
  },
  "language_info": {
   "codemirror_mode": {
    "name": "ipython",
    "version": 3
   },
   "file_extension": ".py",
   "mimetype": "text/x-python",
   "name": "python",
   "nbconvert_exporter": "python",
   "pygments_lexer": "ipython3",
   "version": "3.9.12"
  }
 },
 "nbformat": 4,
 "nbformat_minor": 5
}
