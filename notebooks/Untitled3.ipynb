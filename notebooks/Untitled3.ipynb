{
 "cells": [
  {
   "cell_type": "code",
   "execution_count": 1,
   "id": "51f2e76c",
   "metadata": {},
   "outputs": [],
   "source": [
    "import numpy as np\n",
    "from matplotlib import pylab as plt\n",
    "%matplotlib inline\n",
    "plt.rcParams['text.usetex'] = True\n",
    "import scipy\n",
    "from scipy import integrate as sciint\n",
    "from scipy import optimize as sciopt\n",
    "from scipy.special import kn\n",
    "import numba as nb\n",
    "import pickle\n",
    "import funcs\n",
    "\n",
    "c=2.9792458e10#cm s-1\n",
    "mev2erg = 1.0218e-6\n",
    "mpc2 = 938.72*mev2erg # erg\n",
    "pi = np.pi\n",
    "day2sec=5184000\n",
    "Mpc2cm = 3.086e+24\n",
    "cgi2mJy = 1.e26\n",
    "\n",
    "n0 = 1.e-3 #cm-3\n",
    "eps_e = 0.5\n",
    "eps_b = 0.5\n",
    "theta_v = 0.25\n",
    "theta_j = 0.3\n",
    "D_L = 41*Mpc2cm\n",
    "Gshmax = 100\n",
    "theta_G = 0.059 # Gaussian sigma for the jet\n",
    "theta_c = 0.3 # JET TRUNCATION ANGLE\n",
    "E_g = 1.16e52\n"
   ]
  },
  {
   "cell_type": "code",
   "execution_count": 2,
   "id": "b0a4cf97",
   "metadata": {},
   "outputs": [],
   "source": [
    "phi=1\n",
    "T=1*day2sec\n",
    "nu = 3e9\n"
   ]
  },
  {
   "cell_type": "code",
   "execution_count": 3,
   "id": "fd77a5d0",
   "metadata": {},
   "outputs": [
    {
     "name": "stdout",
     "output_type": "stream",
     "text": [
      "2.836512991210865\n",
      "612 ms ± 14.2 ms per loop (mean ± std. dev. of 7 runs, 1 loop each)\n"
     ]
    }
   ],
   "source": [
    "phi = np.random.random()*pi\n",
    "print(phi)\n",
    "%timeit funcs.integral_theta(phi, T, nu, eps_e, eps_b, Gshmax, n0, theta_v, theta_G, theta_c, E_g)"
   ]
  },
  {
   "cell_type": "code",
   "execution_count": 4,
   "id": "4da4fa81",
   "metadata": {},
   "outputs": [
    {
     "name": "stdout",
     "output_type": "stream",
     "text": [
      "         322868 function calls (305765 primitive calls) in 0.708 seconds\n",
      "\n",
      "   Ordered by: cumulative time\n",
      "\n",
      "   ncalls  tottime  percall  cumtime  percall filename:lineno(function)\n",
      "        1    0.000    0.000    0.708    0.708 {built-in method builtins.exec}\n",
      "        1    0.000    0.000    0.708    0.708 <string>:1(<module>)\n",
      "        1    0.010    0.010    0.708    0.708 {funcs.integral_theta}\n",
      "      600    0.003    0.000    0.682    0.001 _root_scalar.py:61(root_scalar)\n",
      "      300    0.022    0.000    0.611    0.002 _zeros_py.py:94(newton)\n",
      "     6172    0.010    0.000    0.374    0.000 _quadpack_py.py:23(quad)\n",
      "     6172    0.005    0.000    0.359    0.000 _quadpack_py.py:505(_quad)\n",
      "     6172    0.354    0.000    0.354    0.000 {built-in method scipy.integrate._quadpack._qagse}\n",
      "     5697    0.005    0.000    0.229    0.000 <__array_function__ internals>:2(isclose)\n",
      "23107/6004    0.021    0.000    0.225    0.000 {built-in method numpy.core._multiarray_umath.implement_array_function}\n",
      "     5697    0.028    0.000    0.220    0.000 numeric.py:2257(isclose)\n",
      "     5697    0.037    0.000    0.089    0.000 numeric.py:2337(within_tol)\n",
      "    11394    0.006    0.000    0.088    0.000 <__array_function__ internals>:2(all)\n",
      "    11394    0.009    0.000    0.068    0.000 fromnumeric.py:2367(all)\n",
      "      300    0.000    0.000    0.065    0.000 _zeros_py.py:475(bisect)\n",
      "      300    0.064    0.000    0.064    0.000 {built-in method scipy.optimize._zeros._bisect}\n",
      "    11394    0.016    0.000    0.059    0.000 fromnumeric.py:69(_wrapreduction)\n",
      "    11394    0.015    0.000    0.037    0.000 _ufunc_config.py:32(seterr)\n",
      "    11394    0.011    0.000    0.036    0.000 {method 'all' of 'numpy.generic' objects}\n",
      "     5697    0.004    0.000    0.025    0.000 _ufunc_config.py:429(__enter__)\n",
      "    11394    0.003    0.000    0.025    0.000 _methods.py:60(_all)\n",
      "    11395    0.022    0.000    0.022    0.000 {method 'reduce' of 'numpy.ufunc' objects}\n",
      "     5697    0.005    0.000    0.020    0.000 _ufunc_config.py:434(__exit__)\n",
      "    11394    0.013    0.000    0.014    0.000 _ufunc_config.py:131(geterr)\n",
      "     5697    0.003    0.000    0.008    0.000 <__array_function__ internals>:2(result_type)\n",
      "    17092    0.006    0.000    0.006    0.000 {built-in method numpy.asanyarray}\n",
      "    11394    0.005    0.000    0.005    0.000 {built-in method numpy.seterrobj}\n",
      "    11394    0.005    0.000    0.005    0.000 {built-in method builtins.abs}\n",
      "    11394    0.004    0.000    0.004    0.000 fromnumeric.py:70(<dictcomp>)\n",
      "    22788    0.004    0.000    0.004    0.000 {built-in method numpy.geterrobj}\n",
      "     6172    0.002    0.000    0.002    0.000 {built-in method builtins.min}\n",
      "    11994    0.002    0.000    0.002    0.000 {built-in method builtins.getattr}\n",
      "     1800    0.002    0.000    0.002    0.000 {built-in method builtins.locals}\n",
      "     6172    0.002    0.000    0.002    0.000 {built-in method builtins.max}\n",
      "     5697    0.002    0.000    0.002    0.000 _ufunc_config.py:425(__init__)\n",
      "    11394    0.002    0.000    0.002    0.000 fromnumeric.py:2362(_all_dispatcher)\n",
      "    11394    0.001    0.000    0.001    0.000 {method 'items' of 'dict' objects}\n",
      "      300    0.000    0.000    0.001    0.000 <__array_function__ internals>:2(size)\n",
      "     7372    0.001    0.000    0.001    0.000 {built-in method builtins.isinstance}\n",
      "     5697    0.001    0.000    0.001    0.000 numeric.py:2253(_isclose_dispatcher)\n",
      "      300    0.001    0.000    0.001    0.000 fromnumeric.py:3169(size)\n",
      "      300    0.000    0.000    0.001    0.000 _zeros_py.py:82(_results_select)\n",
      "     5697    0.001    0.000    0.001    0.000 multiarray.py:664(result_type)\n",
      "      600    0.000    0.000    0.000    0.000 _zeros_py.py:51(__init__)\n",
      "      300    0.000    0.000    0.000    0.000 _zeros_py.py:70(results_c)\n",
      "     2400    0.000    0.000    0.000    0.000 {method 'get' of 'dict' objects}\n",
      "      600    0.000    0.000    0.000    0.000 {method 'update' of 'dict' objects}\n",
      "      300    0.000    0.000    0.000    0.000 {built-in method numpy.asarray}\n",
      "        6    0.000    0.000    0.000    0.000 <__array_function__ internals>:2(zeros_like)\n",
      "      600    0.000    0.000    0.000    0.000 {method 'lower' of 'str' objects}\n",
      "      600    0.000    0.000    0.000    0.000 {built-in method _operator.index}\n",
      "        6    0.000    0.000    0.000    0.000 numeric.py:76(zeros_like)\n",
      "      300    0.000    0.000    0.000    0.000 fromnumeric.py:3165(_size_dispatcher)\n",
      "      300    0.000    0.000    0.000    0.000 {built-in method builtins.callable}\n",
      "        6    0.000    0.000    0.000    0.000 <__array_function__ internals>:2(copyto)\n",
      "        6    0.000    0.000    0.000    0.000 <__array_function__ internals>:2(empty_like)\n",
      "        1    0.000    0.000    0.000    0.000 <__array_function__ internals>:2(diff)\n",
      "        1    0.000    0.000    0.000    0.000 function_base.py:1164(diff)\n",
      "        6    0.000    0.000    0.000    0.000 {built-in method numpy.zeros}\n",
      "        1    0.000    0.000    0.000    0.000 _methods.py:46(_sum)\n",
      "        6    0.000    0.000    0.000    0.000 numeric.py:72(_zeros_like_dispatcher)\n",
      "        6    0.000    0.000    0.000    0.000 multiarray.py:1071(copyto)\n",
      "        6    0.000    0.000    0.000    0.000 multiarray.py:80(empty_like)\n",
      "        1    0.000    0.000    0.000    0.000 {built-in method numpy.core._multiarray_umath.normalize_axis_index}\n",
      "        1    0.000    0.000    0.000    0.000 {method 'disable' of '_lsprof.Profiler' objects}\n",
      "        1    0.000    0.000    0.000    0.000 {method 'append' of 'list' objects}\n",
      "        1    0.000    0.000    0.000    0.000 function_base.py:1160(_diff_dispatcher)\n",
      "        1    0.000    0.000    0.000    0.000 {built-in method builtins.len}\n",
      "\n",
      "\n"
     ]
    }
   ],
   "source": [
    "import cProfile\n",
    "cProfile.run('funcs.integral_theta(phi, T, nu, eps_e, eps_b, Gshmax, n0, theta_v, theta_G, theta_c, E_g)', sort=2)"
   ]
  },
  {
   "cell_type": "code",
   "execution_count": 2,
   "id": "b2723d1b",
   "metadata": {},
   "outputs": [],
   "source": [
    "def gaussian_profile(theta, theta_G, theta_c, E_g):\n",
    "    res = np.zeros_like(theta)\n",
    "    mask = theta<=theta_c\n",
    "    res[mask] = E_g * np.exp(-0.5*(theta[mask]/theta_G)**2)\n",
    "    return res\n",
    "\n",
    "def U(t, x):\n",
    "    u = 1/mpc2/c**3\n",
    "    return u * x * t**(-3)\n",
    "\n",
    "# _BM = C_BM^2*t^-3 (eq.1 & 2)\n",
    "def BM(t, x):\n",
    "    bm = 17/8/pi\n",
    "    return bm * U(t, x)\n",
    "\n",
    "# _ST = C_ST^2*t^-6/5\n",
    "def ST(t, x):\n",
    "    st = (2*1.15/5)**2\n",
    "    return st * U(t, x)**(2/5)\n",
    "\n",
    "def A(t, x):\n",
    "    return BM(t, x) + ST(t, x)\n",
    "\n",
    "#Gamma_shell^2 * beta_shell^2\n",
    "def GB2(t, x, Gshmax) :\n",
    "    val = A(t, x)\n",
    "    val[val>=Gshmax**2] = Gshmax**2\n",
    "    return val\n",
    "\n",
    "#Gamma_shell^2\n",
    "def G2(t, x, Gshmax):\n",
    "    return GB2(t, x, Gshmax) + 1\n",
    "\n",
    "\n",
    "def integrand(theta_array, phi):\n",
    "    eg = funcs.gaussian_profile(theta_array, theta_G, theta_c, E_g)\n",
    "    mu_array = np.cos(theta_array)*np.cos(theta_v) + np.sin(theta_array)*np.sin(theta_v)*np.cos(phi)\n",
    "    t_array = funcs.find_emission_time(T, eg/n0, Gshmax, mu_array)\n",
    "    gb2 = GB2(t_array, eg/n0, Gshmax)\n",
    "    gsh = np.sqrt(gb2+1)\n",
    "    bsh = np.sqrt(1-1/gsh**2)\n",
    "    Roc = funcs.R_over_c(t_array, eg/n0, Gshmax)\n",
    "    \n",
    "    res = abs(mu_array-bsh)/(1-mu_array*bsh) * Roc**2\n",
    "\n",
    "    g,b,p,eprime,nprime = funcs.shocked_medium_array(gsh, n0)\n",
    "    eps_prime, alpha_prime, delta = funcs.emissivity_array(nu, bsh, t_array, mu_array, g, b, p, eprime, nprime, eps_e, eps_b)\n",
    "    \n",
    "    res *= eps_prime\n",
    "    res /= alpha_prime\n",
    "    res /= delta**3\n",
    "    \n",
    "    delta_s = Roc*c / 12. / g**2 / abs(mu_array - bsh)\n",
    "    tau = alpha_prime * delta * delta_s\n",
    "    extinction = 1-np.exp(-tau)\n",
    "    extinction[extinction<1.e-6] = tau[extinction<1.e-6]\n",
    "    res *= extinction\n",
    "\n",
    "    res *= np.sin(theta_array)\n",
    "\n",
    "    return res"
   ]
  },
  {
   "cell_type": "code",
   "execution_count": 3,
   "id": "884f31d2",
   "metadata": {},
   "outputs": [
    {
     "name": "stdout",
     "output_type": "stream",
     "text": [
      "10.7 s ± 238 ms per loop (mean ± std. dev. of 7 runs, 1 loop each)\n"
     ]
    }
   ],
   "source": [
    "%timeit funcs.integral_phi(T,nu, eps_e, eps_b, Gshmax, n0, theta_v, theta_G, theta_c, E_g)"
   ]
  },
  {
   "cell_type": "code",
   "execution_count": 5,
   "id": "223e725c",
   "metadata": {},
   "outputs": [
    {
     "ename": "NameError",
     "evalue": "name 'phi_array' is not defined",
     "output_type": "error",
     "traceback": [
      "\u001b[0;31m---------------------------------------------------------------------------\u001b[0m",
      "\u001b[0;31mNameError\u001b[0m                                 Traceback (most recent call last)",
      "Input \u001b[0;32mIn [5]\u001b[0m, in \u001b[0;36m<cell line: 1>\u001b[0;34m()\u001b[0m\n\u001b[0;32m----> 1\u001b[0m \u001b[38;5;28mlen\u001b[39m(\u001b[43mphi_array\u001b[49m),\u001b[38;5;28mlen\u001b[39m(np\u001b[38;5;241m.\u001b[39marange(\u001b[38;5;241m0\u001b[39m, theta_c, \u001b[38;5;241m0.001\u001b[39m))\n\u001b[1;32m      2\u001b[0m \u001b[38;5;241m32\u001b[39m\u001b[38;5;241m*\u001b[39m\u001b[38;5;241m300\u001b[39m\n",
      "\u001b[0;31mNameError\u001b[0m: name 'phi_array' is not defined"
     ]
    }
   ],
   "source": [
    "len(phi_array),len(np.arange(0, theta_c, 0.001))"
   ]
  },
  {
   "cell_type": "code",
   "execution_count": 3,
   "id": "e52f9c40",
   "metadata": {},
   "outputs": [],
   "source": [
    "def integral_theta(phi, T, nu):\n",
    "    theta = np.arange(0, theta_c, 0.001)\n",
    "    res = integrand(theta, phi)\n",
    "    mid_points = (res[1:]+res[:-1])/2\n",
    "    integral = (mid_points*np.diff(theta_array)).sum()\n",
    "    return integral"
   ]
  },
  {
   "cell_type": "code",
   "execution_count": 5,
   "id": "57ad6c09",
   "metadata": {},
   "outputs": [],
   "source": [
    "def integrand_phi(phi_array, T, nu):\n",
    "    integrand2 = np.zeros_like(phi_array)\n",
    "    for i,phi in enumerate(phi_array):\n",
    "        integrand2[i] = integral_theta(phi, T, nu)\n",
    "    return integrand2"
   ]
  },
  {
   "cell_type": "code",
   "execution_count": 6,
   "id": "7aeeae58",
   "metadata": {},
   "outputs": [],
   "source": [
    "def integral_phi(T,nu):\n",
    "    phi_array = np.arange(0, pi, 0.1) #function is even in phi\n",
    "    integrand = integrand_phi(phi_array, T, nu)\n",
    "    mid_points = (integrand[1:]+integrand[:-1])/2\n",
    "    integral2 = (mid_points*np.diff(phi_array)).sum()\n",
    "    return 2*integral2    #times 2 because even"
   ]
  },
  {
   "cell_type": "code",
   "execution_count": 7,
   "id": "51a3adf9",
   "metadata": {},
   "outputs": [
    {
     "ename": "NameError",
     "evalue": "name 'theta_array' is not defined",
     "output_type": "error",
     "traceback": [
      "\u001b[0;31m---------------------------------------------------------------------------\u001b[0m",
      "\u001b[0;31mNameError\u001b[0m                                 Traceback (most recent call last)",
      "Input \u001b[0;32mIn [7]\u001b[0m, in \u001b[0;36m<cell line: 2>\u001b[0;34m()\u001b[0m\n\u001b[1;32m      1\u001b[0m phi_array \u001b[38;5;241m=\u001b[39m np\u001b[38;5;241m.\u001b[39marange(\u001b[38;5;241m0\u001b[39m, pi, \u001b[38;5;241m0.1\u001b[39m)\n\u001b[0;32m----> 2\u001b[0m y \u001b[38;5;241m=\u001b[39m \u001b[43mintegrand_phi\u001b[49m\u001b[43m(\u001b[49m\u001b[43mphi_array\u001b[49m\u001b[43m,\u001b[49m\u001b[43m \u001b[49m\u001b[43mT\u001b[49m\u001b[43m,\u001b[49m\u001b[43m \u001b[49m\u001b[43mnu\u001b[49m\u001b[43m)\u001b[49m\n",
      "Input \u001b[0;32mIn [5]\u001b[0m, in \u001b[0;36mintegrand_phi\u001b[0;34m(phi_array, T, nu)\u001b[0m\n\u001b[1;32m      2\u001b[0m integrand2 \u001b[38;5;241m=\u001b[39m np\u001b[38;5;241m.\u001b[39mzeros_like(phi_array)\n\u001b[1;32m      3\u001b[0m \u001b[38;5;28;01mfor\u001b[39;00m i,phi \u001b[38;5;129;01min\u001b[39;00m \u001b[38;5;28menumerate\u001b[39m(phi_array):\n\u001b[0;32m----> 4\u001b[0m     integrand2[i] \u001b[38;5;241m=\u001b[39m \u001b[43mintegral_theta\u001b[49m\u001b[43m(\u001b[49m\u001b[43mphi\u001b[49m\u001b[43m,\u001b[49m\u001b[43m \u001b[49m\u001b[43mT\u001b[49m\u001b[43m,\u001b[49m\u001b[43m \u001b[49m\u001b[43mnu\u001b[49m\u001b[43m)\u001b[49m\n\u001b[1;32m      5\u001b[0m \u001b[38;5;28;01mreturn\u001b[39;00m integrand2\n",
      "Input \u001b[0;32mIn [4]\u001b[0m, in \u001b[0;36mintegral_theta\u001b[0;34m(phi, T, nu)\u001b[0m\n\u001b[1;32m      3\u001b[0m res \u001b[38;5;241m=\u001b[39m integrand(theta, phi)\n\u001b[1;32m      4\u001b[0m mid_points \u001b[38;5;241m=\u001b[39m (res[\u001b[38;5;241m1\u001b[39m:]\u001b[38;5;241m+\u001b[39mres[:\u001b[38;5;241m-\u001b[39m\u001b[38;5;241m1\u001b[39m])\u001b[38;5;241m/\u001b[39m\u001b[38;5;241m2\u001b[39m\n\u001b[0;32m----> 5\u001b[0m integral \u001b[38;5;241m=\u001b[39m (mid_points\u001b[38;5;241m*\u001b[39mnp\u001b[38;5;241m.\u001b[39mdiff(\u001b[43mtheta_array\u001b[49m))\u001b[38;5;241m.\u001b[39msum()\n\u001b[1;32m      6\u001b[0m \u001b[38;5;28;01mreturn\u001b[39;00m integral\n",
      "\u001b[0;31mNameError\u001b[0m: name 'theta_array' is not defined"
     ]
    }
   ],
   "source": [
    "phi_array = np.arange(0, pi, 0.1)\n",
    "y = integrand_phi(phi_array, T, nu)"
   ]
  },
  {
   "cell_type": "code",
   "execution_count": null,
   "id": "285ff7f3",
   "metadata": {},
   "outputs": [],
   "source": [
    "plt.plot(phi_array, y)"
   ]
  },
  {
   "cell_type": "code",
   "execution_count": null,
   "id": "18edbeef",
   "metadata": {},
   "outputs": [],
   "source": [
    "%timeit integral_phi(T,nu)"
   ]
  },
  {
   "cell_type": "code",
   "execution_count": null,
   "id": "504e70db",
   "metadata": {},
   "outputs": [],
   "source": [
    "plt.plot(theta_array, res)"
   ]
  },
  {
   "cell_type": "code",
   "execution_count": null,
   "id": "f210d26d",
   "metadata": {},
   "outputs": [],
   "source": [
    "plt.plot(theta_array, integrand() )"
   ]
  },
  {
   "cell_type": "code",
   "execution_count": null,
   "id": "781660b0",
   "metadata": {},
   "outputs": [],
   "source": [
    "\n",
    "\n",
    "g,b,p,eprime,nprime = funcs.shocked_medium_array(gsh, n0)\n",
    "eps_prime, alpha_prime, delta = funcs.emissivity_array(nu, bsh, t_array, mu_array, g, b, p, eprime, nprime, eps_e, eps_b)"
   ]
  },
  {
   "cell_type": "code",
   "execution_count": null,
   "id": "ece44478",
   "metadata": {},
   "outputs": [],
   "source": [
    "res *= eps_prime    \n",
    "res /= alpha_prime\n",
    "res /= delta**3"
   ]
  },
  {
   "cell_type": "code",
   "execution_count": null,
   "id": "c36cfd32",
   "metadata": {},
   "outputs": [],
   "source": [
    "delta_s = Roc*c / 12. / g**2 / abs(mu_array - bsh)\n",
    "tau = alpha_prime * delta * delta_s\n",
    "extinction = 1-np.exp(-tau)\n",
    "extinction[extinction<1.e-6] = tau[extinction<1.e-6]\n",
    "res *= extinction\n",
    "\n",
    "res *= np.sin(theta_array)\n"
   ]
  },
  {
   "cell_type": "code",
   "execution_count": null,
   "id": "8eb5962e",
   "metadata": {},
   "outputs": [],
   "source": [
    "mid_points = (res[1:]+res[:-1])/2\n",
    "integral1 = (mid_points*np.diff(theta_array)).sum()\n",
    "print(integral1)"
   ]
  },
  {
   "cell_type": "code",
   "execution_count": null,
   "id": "dde1fc65",
   "metadata": {},
   "outputs": [],
   "source": [
    "def emission_time(theta, phi, T, x, Gshmax, theta_v):\n",
    "    theta = np.asarray(theta)\n",
    "    phi = np.asarray(phi)\n",
    "    mu = np.cos(theta)*np.cos(theta_v) + np.sin(theta)*np.sin(theta_v)*np.cos(phi)\n",
    "    \n",
    "def first_integral(phi, T, nu):\n",
    "    theta_array = np.arange(0, theta_j, 0.005)\n",
    "    x_array = np.zeros_like(theta_array)\n",
    "    t_array = np.zeros_like(theta_array)\n",
    "    res_array = np.zeros_like(theta_array)\n",
    "    mu_array = np.cos(theta_array)*np.cos(theta_v) + np.sin(theta_array)*np.sin(theta_v)*np.cos(phi)\n",
    "    for i,theta in enumerate(theta_array):\n",
    "        mu = mu_array[i]\n",
    "        x_array[i] = funcs.gaussian_profile(theta_array[i], theta_G, theta_c, E_g)/n0\n",
    "        t_array[i] = funcs.find_emission_time(T, x_array[i], Gshmax, mu)\n",
    "        gb2 = funcs.GB2(t_array[i], x_array[i], Gshmax)\n",
    "        gsh = np.sqrt(gb2+1)\n",
    "        bsh = np.sqrt(1-1/gsh**2)\n",
    "        Roc = funcs._R_over_c(t_array[i], x_array[i], Gshmax)\n",
    "        \n",
    "        res_array[i] = abs(mu-bsh)/(1-mu*bsh) * Roc**2\n",
    "        \n",
    "        g,b,p,eprime,nprime = funcs.shocked_medium(gsh, n0)\n",
    "        eps_prime, alpha_prime, delta = funcs.emissivity(nu, bsh, t_array[i], mu_array[i], g, b, p, eprime, nprime, eps_e, eps_b)\n",
    "        \n",
    "        res_array[i] *= eps_prime    \n",
    "        res_array[i] /= alpha_prime\n",
    "        res_array[i] /= delta**3\n",
    "    \n",
    "        #internal opacity\n",
    "        #B39\n",
    "        delta_s = Roc*c / 12. / g**2 / abs(mu - bsh)\n",
    "        tau = alpha_prime * delta * delta_s\n",
    "\n",
    "        if np.exp(-tau)!=1:\n",
    "            res_array[i] *= (1-np.exp(-tau))\n",
    "        else: #case where tau is too small and the exp numerically resolve into exactly 1.\n",
    "            res_array[i] *= tau\n",
    "    sinth = np.sin(theta_array)\n",
    "    integrand = res_array*sinth\n",
    "    mid_points = (integrand[1:]+integrand[:-1])/2\n",
    "    integral1 = (mid_points*np.diff(theta_array)).sum()\n",
    "    return integral1"
   ]
  },
  {
   "cell_type": "code",
   "execution_count": null,
   "id": "a2941d14",
   "metadata": {},
   "outputs": [],
   "source": [
    "def second_integral(T, nu):\n",
    "    phi_array = np.arange(0, pi, 0.1) #function is even in phi\n",
    "    integrand2 = np.zeros_like(phi_array)\n",
    "    for i,phi in enumerate(phi_array):\n",
    "        integrand2[i] = first_integral(phi, T, nu)\n",
    "    mid_points = (integrand2[1:]+integrand2[:-1])/2\n",
    "    integral2 = (mid_points*np.diff(phi_array)).sum()\n",
    "    return 2*integral2    #times 2 because even"
   ]
  },
  {
   "cell_type": "code",
   "execution_count": null,
   "id": "9e3eff9b",
   "metadata": {},
   "outputs": [],
   "source": [
    "nu = 3e9\n",
    "T_arr = np.array([0.1, 1, 10, 100])*day2sec\n",
    "flux = np.zeros_like(T_arr)\n",
    "for i,T in enumerate(T_arr):\n",
    "    flux[i] = second_integral(T,nu)*c**2/4/pi/D_L#/cgi2mJy"
   ]
  },
  {
   "cell_type": "code",
   "execution_count": null,
   "id": "e13d7d13",
   "metadata": {},
   "outputs": [],
   "source": []
  }
 ],
 "metadata": {
  "kernelspec": {
   "display_name": "Python 3 (ipykernel)",
   "language": "python",
   "name": "python3"
  },
  "language_info": {
   "codemirror_mode": {
    "name": "ipython",
    "version": 3
   },
   "file_extension": ".py",
   "mimetype": "text/x-python",
   "name": "python",
   "nbconvert_exporter": "python",
   "pygments_lexer": "ipython3",
   "version": "3.9.12"
  }
 },
 "nbformat": 4,
 "nbformat_minor": 5
}
