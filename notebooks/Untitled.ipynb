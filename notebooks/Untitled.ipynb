{
 "cells": [
  {
   "cell_type": "code",
   "execution_count": 1,
   "id": "2b504a0f",
   "metadata": {},
   "outputs": [],
   "source": [
    "import numpy as np\n",
    "from matplotlib import pylab as plt\n",
    "%matplotlib inline\n",
    "plt.rcParams['text.usetex'] = True\n",
    "import scipy\n",
    "from scipy import integrate as sciint\n",
    "from scipy import optimize as sciopt\n",
    "import numba as nb\n",
    "import pickle\n",
    "import funcs\n"
   ]
  },
  {
   "cell_type": "code",
   "execution_count": 3,
   "id": "64dc45f5",
   "metadata": {},
   "outputs": [],
   "source": [
    "c=2.9792458e10#cm s-1\n",
    "mev2erg = 1.0218e-6\n",
    "mpc2 = 938.72*mev2erg # erg\n",
    "pi = np.pi\n",
    "day2sec=5184000"
   ]
  },
  {
   "cell_type": "code",
   "execution_count": 3,
   "id": "c6dec235",
   "metadata": {},
   "outputs": [],
   "source": [
    "n0=1e-3#cm-3\n",
    "n0c3 = n0 * c**3 #s^-3\n",
    "\n",
    "Gshmax = 100"
   ]
  },
  {
   "cell_type": "code",
   "execution_count": 4,
   "id": "ce3ee178",
   "metadata": {},
   "outputs": [],
   "source": [
    "theta_c = 0.3 #rad\n",
    "theta_G = 0.059 #rad\n",
    "E_g = 1.16e52 #erg\n",
    "def gaussian_profile(theta, theta_G, theta_c, E_g):\n",
    "    res = np.zeros_like(theta)\n",
    "    res[theta<=theta_c] = E_g * np.exp(-0.5*(theta/theta_G)**2)\n",
    "    return res"
   ]
  },
  {
   "cell_type": "code",
   "execution_count": 5,
   "id": "5d2ebf24",
   "metadata": {},
   "outputs": [],
   "source": [
    "theta_v = 0.25\n",
    "def mu(theta, theta_v, phi):\n",
    "    return np.cos(theta)*np.cos(theta_v) + np.sin(theta)*np.sin(theta_v)*np.cos(phi)"
   ]
  },
  {
   "cell_type": "code",
   "execution_count": 6,
   "id": "5777eab1",
   "metadata": {},
   "outputs": [],
   "source": [
    "nphi=50\n",
    "ntheta=100\n",
    "phi = np.linspace(0,2*pi,nphi) #rad\n",
    "theta = np.linspace(0, theta_c, ntheta) #rad\n",
    "phis, thetas = np.meshgrid(phi, theta)\n",
    "mus = mu(thetas, theta_v, phis)\n",
    "Es = gaussian_profile(theta, theta_G, theta_c, E_g)\n",
    "xs = Es / n0 #scaling relation"
   ]
  },
  {
   "cell_type": "code",
   "execution_count": 7,
   "id": "e4e23d6a",
   "metadata": {},
   "outputs": [],
   "source": [
    "T = 10*day2sec\n",
    "t_emiss = funcs._emission_times(T, xs, Gshmax, mus)"
   ]
  },
  {
   "cell_type": "code",
   "execution_count": 8,
   "id": "21b1a70a",
   "metadata": {},
   "outputs": [
    {
     "data": {
      "text/plain": [
       "array([[5.09138037, 5.09138037, 5.09138037, ..., 5.09138037, 5.09138037,\n",
       "        5.09138037],\n",
       "       [5.08945881, 5.08947467, 5.089522  , ..., 5.089522  , 5.08947467,\n",
       "        5.08945881],\n",
       "       [5.08756163, 5.08759333, 5.08768793, ..., 5.08768793, 5.08759333,\n",
       "        5.08756163],\n",
       "       ...,\n",
       "       [5.01485198, 5.01632504, 5.02072515, ..., 5.02072515, 5.01632504,\n",
       "        5.01485198],\n",
       "       [5.01519657, 5.01668457, 5.02112939, ..., 5.02112939, 5.01668457,\n",
       "        5.01519657],\n",
       "       [5.01556417, 5.01706712, 5.02155666, ..., 5.02155666, 5.01706712,\n",
       "        5.01556417]])"
      ]
     },
     "execution_count": 8,
     "metadata": {},
     "output_type": "execute_result"
    }
   ],
   "source": [
    "t_emiss/day2sec"
   ]
  },
  {
   "cell_type": "code",
   "execution_count": null,
   "id": "d78d16c1",
   "metadata": {},
   "outputs": [],
   "source": [
    "zetas = funcs._find_zeta(Gsh)"
   ]
  },
  {
   "cell_type": "code",
   "execution_count": 4,
   "id": "efefbbef",
   "metadata": {},
   "outputs": [
    {
     "data": {
      "text/plain": [
       "(3.94256646445544, 3.94256646445544, 3.94256646445544)"
      ]
     },
     "execution_count": 4,
     "metadata": {},
     "output_type": "execute_result"
    }
   ],
   "source": [
    "E=10**50 #ergs\n",
    "t=10**8  #sec\n",
    "n=1e-3  #cm-3\n",
    "U1 = E*t**(-3)/n/mpc2/c**3\n",
    "U2 = 1e50 *1e-24*1.e3/mpc2/c**3 * (E/1e50) * (t/1e8)**(-3) * (n/1.e-3)**(-1)\n",
    "E=1\n",
    "t=1\n",
    "n=1\n",
    "U3=1e50 *1e-24*1.e3/mpc2/c**3 * E * t**(-3) * n**(-1)\n",
    "U1,U2,U3"
   ]
  },
  {
   "cell_type": "code",
   "execution_count": 7,
   "id": "bf9b733d",
   "metadata": {},
   "outputs": [
    {
     "name": "stdout",
     "output_type": "stream",
     "text": [
      "0.9611903844082083 0.9622916067054939\n",
      "921 µs ± 11.2 µs per loop (mean ± std. dev. of 7 runs, 1,000 loops each)\n"
     ]
    },
    {
     "data": {
      "text/plain": [
       "Text(0, 0.5, '$\\\\beta_{sh}$')"
      ]
     },
     "execution_count": 7,
     "metadata": {},
     "output_type": "execute_result"
    },
    {
     "data": {
      "image/png": "[encoded data removed]",
      "text/plain": [
       "<Figure size 432x288 with 1 Axes>"
      ]
     },
     "metadata": {
      "needs_background": "light"
     },
     "output_type": "display_data"
    },
    {
     "data": {
      "image/png": "[encoded data removed]",
      "text/plain": [
       "<Figure size 432x288 with 1 Axes>"
      ]
     },
     "metadata": {
      "needs_background": "light"
     },
     "output_type": "display_data"
    }
   ],
   "source": [
    "u = 1e50 *1e-24*1.e3/mpc2/c**3\n",
    "bm = 17/8/pi\n",
    "st = (2*1.15/5)**2\n",
    "x = E / n #scaling relation\n",
    "\n",
    "def U(t, x):# t, E, n in units of 1e8 s, 1e50 ergs, 1e-3 cm-3\n",
    "    return u * x * t**(-3)\n",
    "#simple connexion of BM and ST solution, with a capping max Gamma_shell\n",
    "def BM(t, x):\n",
    "    return bm*U(t, x)\n",
    "def ST(t, x):\n",
    "    return st*U(t, x)**(2/5)\n",
    "def A(t, x):\n",
    "    return BM(t, x) + ST(t, x)\n",
    "def GB2(t, x, Gshmax) :\n",
    "    val = A(t, x)\n",
    "    if np.isscalar(val):\n",
    "        return min(val, Gshmax)\n",
    "    val[val>=Gshmax**2]=Gshmax**2\n",
    "    return val\n",
    "\n",
    "def G2(t, x, Gshmax):\n",
    "    return GB2(t, x, Gshmax)+1\n",
    "\n",
    "def B2(t, x, Gshmax):\n",
    "    return GB2(t,x, Gshmax) / (GB2(t, x, Gshmax)+1)\n",
    "    \n",
    "def R(t, x, Gshmax):\n",
    "    def B(t, x, Gsmax): return np.sqrt(B2(t, x, Gshmax))\n",
    "    res = sciint.quad(B,0,t,args=(x, Gshmax))\n",
    "    return res[0]\n",
    "\n",
    "def RR(t,x,Gshmax):\n",
    "    uarr = np.logspace(-5,np.log10(t),1000)\n",
    "    barr = np.sqrt(B2(uarr,x, Gshmax))\n",
    "    mid = (barr[1:]+barr[:-1])/2\n",
    "    res = mid*np.diff(uarr)\n",
    "    return res.sum()\n",
    "\n",
    "print(R(1,x,Gshmax), RR(1,x, Gshmax))\n",
    "%timeit R(1,x,Gshmax)\n",
    "#%timeit RR(1,x,Gshmax)\n",
    "\n",
    "tarr = np.logspace(-2,2,50)\n",
    "E=1\n",
    "n=1\n",
    "plt.loglog(tarr*1.e8/day2sec, G2(tarr, x, Gshmax), label=r'$\\Gamma_{sh}^2$')\n",
    "plt.loglog(tarr*1.e8/day2sec, BM(tarr, x), label='BM')\n",
    "plt.loglog(tarr*1.e8/day2sec, ST(tarr, x), label='ST')\n",
    "plt.xlabel(\"t[day]\", fontsize=16)\n",
    "plt.xticks(fontsize=14)\n",
    "plt.yticks(fontsize=14)\n",
    "plt.ylabel(r'$\\Gamma_{sh}^2\\beta_{sh}^2$', fontsize=16)\n",
    "plt.legend()\n",
    "\n",
    "plt.subplots()\n",
    "plt.loglog(tarr, np.sqrt(B2(tarr, x, Gshmax)))\n",
    "plt.xlabel(\"t[day]\", fontsize=16)\n",
    "plt.xticks(fontsize=14)\n",
    "plt.yticks(fontsize=14)\n",
    "plt.ylabel(r'$\\beta_{sh}$', fontsize=16);\n"
   ]
  },
  {
   "cell_type": "code",
   "execution_count": 8,
   "id": "0d8804cf",
   "metadata": {},
   "outputs": [
    {
     "name": "stdout",
     "output_type": "stream",
     "text": [
      "537 µs ± 12.9 µs per loop (mean ± std. dev. of 7 runs, 1,000 loops each)\n"
     ]
    }
   ],
   "source": [
    "import funcs\n",
    "%timeit funcs._R(1,x,Gshmax)\n",
    "#%timeit funcs._RR(1,x,Gshmax)"
   ]
  },
  {
   "cell_type": "markdown",
   "id": "5dbbac21",
   "metadata": {},
   "source": [
    "The sequence is as follows :\n",
    "\n",
    "1/ sample the integration variables\n",
    "- phi_j uniform between 0 and 2pi\n",
    "- theta_i and E_i=E(theta_i) sampled depending on the jet structure model, typically theta_i uniform between 0 and a jet cutoff\n",
    "- compute mu_ij given also the fixed parameter theta_V\n",
    "\n",
    "2/ find the shock dynamics variables:\n",
    "- compute t_ij via root finding (tij=T+mu_ij R(t_ij)/c)\n",
    "- this also yiels Rij, bsh_ij and gsh_ij at t_ij\n",
    "\n",
    "3/ find the electron population variables: Gamma_ij, gamma_ij, etc...\n",
    "\n",
    "4/ build the functional of the integral\n",
    "\n",
    "5/ inetgrate by summation\n",
    "\n",
    "6/ iterate the whole procedure over T"
   ]
  },
  {
   "cell_type": "markdown",
   "id": "1a24791c",
   "metadata": {},
   "source": [
    "## Integration variables, and related variables"
   ]
  },
  {
   "cell_type": "markdown",
   "id": "b8cd00cf",
   "metadata": {},
   "source": [
    "## Shock dynamics\n",
    "\n"
   ]
  },
  {
   "cell_type": "code",
   "execution_count": 7,
   "id": "80c9e1d3",
   "metadata": {},
   "outputs": [],
   "source": [
    "def CBM(E):\n",
    "    return np.sqrt(E/8/pi/mpc2/n0c3)\n",
    "def CST(E):\n",
    "    return 2*1.15/5 * (E/mpc2/n0c3)**(1/5)"
   ]
  },
  {
   "cell_type": "code",
   "execution_count": 153,
   "id": "63498caa",
   "metadata": {},
   "outputs": [],
   "source": [
    "def A(t,n0, E, Gshmax):\n",
    "    if np.isscalar(E): E=np.array([E,])\n",
    "    val = CBM(E)**2*t**(-3) + CST(E)**2 * t**(-6/5)\n",
    "    val[val>=Gshmax**2]=Gshmax**2\n",
    "    return val\n",
    "\n",
    "#@nb.jit(nopython=True)\n",
    "def bsh(t, n0, E, Gshmax):\n",
    "    a = A(t,n0, E, Gshmax)\n",
    "    return np.sqrt(a/(1+a))\n",
    "\n",
    "def gsh(t, n0, E, Gshmax):\n",
    "    return np.sqrt(1/(1-bsh(t, n0, E, Gshmax)**2))\n",
    "\n",
    "#@nb.jit(nopython=True)\n",
    "def R(t, n0, E, Gshmax):\n",
    "    res = sciint.quad(bsh,0,t,args=(n0, E, Gshmax))\n",
    "    return res[0]"
   ]
  },
  {
   "cell_type": "code",
   "execution_count": 99,
   "id": "0d218c02",
   "metadata": {},
   "outputs": [
    {
     "data": {
      "image/png": "[encoded data removed]",
      "text/plain": [
       "<Figure size 432x288 with 1 Axes>"
      ]
     },
     "metadata": {
      "needs_background": "light"
     },
     "output_type": "display_data"
    }
   ],
   "source": [
    "T = 10*day2sec\n",
    "#ts=np.logspace(np.log10(0.1*T), np.log10(10*T))\n",
    "#TT=np.zeros_like(ts)\n",
    "#for i,t in enumerate(ts):\n",
    "#    TT[i] = t-mus[1,4]*R(t, n0, Es[1], Gshmax)\n",
    "#plt.plot(ts,TT)\n",
    "#plt.plot(ts, T*np.ones_like(ts))\n",
    "\n",
    "##@nb.jit(nopython=True)\n",
    "def func(t, n0, E, Gshmax, mu):\n",
    "    return t - T - mu * R(t, n0, E, Gshmax)\n",
    "#@nb.jit(nopython=False)\n",
    "def func_deriv(t, n0, E, Gshmax, mu):\n",
    "    return 1 - mu * bsh(t, n0, E, Gshmax)\n",
    "\n",
    "#@nb.jit(nopython=False)\n",
    "def emission_times(T,n0, Es, Gshmax, mus):\n",
    "    ts = np.zeros_like(mus)\n",
    "#    tmp = T\n",
    "    for i in range(mus.shape[0]):\n",
    "        for j in range(mus.shape[1]):\n",
    "#    for i in range(2):\n",
    "#        for j in range(10):\n",
    "#            print(i,j,Es[i],mus[i,j])\n",
    "#            ts[i,j] = sciopt.bisect(func, a=T, b=10*T, args=(n0, Es[i], Gshmax, mus[i,j])).real\n",
    "#            ts[i,j] = sciopt.newton(func, x0=T, fprime=func_deriv, args=(n0, Es[i], Gshmax, mus[i,j]), maxiter=100).real\n",
    "            ts[i,j] = sciopt.root_scalar(func, x0=T, fprime=func_deriv, method='newton',\\\n",
    "                                         args=(n0, Es[i], Gshmax, mus[i,j]), maxiter=50).root[0]\n",
    "#            ts[i,j] = sciopt.root_scalar(func, bracket=(T,10*T), method='bisect',\\\n",
    "#                                         args=(n0, Es[i], Gshmax, mus[i,j]), maxiter=50).root\n",
    "#            tmp=ts[i,j]\n",
    "    return ts\n",
    "\n",
    "emiss_t = emission_times(T,n0, Es, Gshmax, mus)"
   ]
  },
  {
   "cell_type": "code",
   "execution_count": 105,
   "id": "8e1e818f",
   "metadata": {},
   "outputs": [],
   "source": [
    "#with open('emiss_t.pkl','wb') as f:\n",
    "#    pickle.dump(emiss_t, f)\n",
    "with open('emiss_t.pkl','rb') as f:\n",
    "    emiss_t = pickle.load(f)"
   ]
  },
  {
   "cell_type": "code",
   "execution_count": 154,
   "id": "ad276059",
   "metadata": {},
   "outputs": [
    {
     "data": {
      "text/plain": [
       "(69395157.99508911, 357823949.6878983)"
      ]
     },
     "execution_count": 154,
     "metadata": {},
     "output_type": "execute_result"
    }
   ],
   "source": [
    "emiss_t.min(), emiss_t.max()"
   ]
  },
  {
   "cell_type": "code",
   "execution_count": 151,
   "id": "d6d88da1",
   "metadata": {},
   "outputs": [],
   "source": [
    "gammas_sh = np.zeros_like(emiss_t)\n",
    "for j in range(nphi):\n",
    "    gammas_sh[:,j] = gsh(emiss_t[:,j], n0, Es, Gshmax)"
   ]
  },
  {
   "cell_type": "code",
   "execution_count": 21,
   "id": "59efb1e0",
   "metadata": {},
   "outputs": [
    {
     "data": {
      "text/plain": [
       "[<matplotlib.lines.Line2D at 0x7f0c39fa52e0>]"
      ]
     },
     "execution_count": 21,
     "metadata": {},
     "output_type": "execute_result"
    },
    {
     "data": {
      "image/png": "[encoded data removed]",
      "text/plain": [
       "<Figure size 432x288 with 1 Axes>"
      ]
     },
     "metadata": {
      "needs_background": "light"
     },
     "output_type": "display_data"
    }
   ],
   "source": [
    "energies = np.logspace(49,52)\n",
    "plt.semilogy(energies, CBM(energies))\n",
    "plt.semilogy(energies, CST(energies)*1.e7)"
   ]
  },
  {
   "cell_type": "code",
   "execution_count": 157,
   "id": "6693210c",
   "metadata": {},
   "outputs": [
    {
     "data": {
      "text/plain": [
       "<matplotlib.legend.Legend at 0x7f887e961850>"
      ]
     },
     "execution_count": 157,
     "metadata": {},
     "output_type": "execute_result"
    },
    {
     "data": {
      "image/png": "[encoded data removed]",
      "text/plain": [
       "<Figure size 432x288 with 1 Axes>"
      ]
     },
     "metadata": {
      "needs_background": "light"
     },
     "output_type": "display_data"
    }
   ],
   "source": [
    "times = np.logspace(7,8)\n",
    "for i in [0,10,20,50, 70,90,99]:\n",
    "    y = gsh(times, n0, Es[i], Gshmax)\n",
    "#    plt.loglog(times,1/(1-Bsh**2), label=Es[i])\n",
    "    plt.loglog(times, y, label=Es[i])\n",
    "plt.legend()"
   ]
  },
  {
   "cell_type": "code",
   "execution_count": 117,
   "id": "9da53c55",
   "metadata": {},
   "outputs": [
    {
     "data": {
      "text/plain": [
       "Text(0.5, 1.0, 'R(t)')"
      ]
     },
     "execution_count": 117,
     "metadata": {},
     "output_type": "execute_result"
    },
    {
     "data": {
      "image/png": "[encoded data removed]",
      "text/plain": [
       "<Figure size 432x288 with 1 Axes>"
      ]
     },
     "metadata": {
      "needs_background": "light"
     },
     "output_type": "display_data"
    }
   ],
   "source": [
    "dt = np.diff(times)\n",
    "mid_b = (Bsh[1:]+Bsh[:-1])/2\n",
    "R = np.cumsum(mid_b*dt)*c\n",
    "plt.loglog(times[1:], R)\n",
    "plt.title ('R(t)')"
   ]
  },
  {
   "cell_type": "markdown",
   "id": "02d19f8a",
   "metadata": {},
   "source": [
    "## Electron population"
   ]
  },
  {
   "cell_type": "code",
   "execution_count": 121,
   "id": "cdbf4fd0",
   "metadata": {},
   "outputs": [],
   "source": [
    "from scipy import optimize as sciopt\n",
    "from scipy.special import kn\n",
    "\n",
    "def G(x):\n",
    "    return kn(3, x)/kn(2,x)-1/x\n",
    "\n",
    "def g(x):\n",
    "    return 1 + 4*kn(2,x) / x / (3*kn(3,x)+kn(1,x)-4*kn(2,x))\n",
    "\n",
    "def n_prime(x) :\n",
    "    return n0 * (g(x) * G(x) + 1) / (g(x)-1)\n",
    "\n",
    "def rootfunc(x,Gsh):\n",
    "    Gamma = G(x)\n",
    "    gamma = g(x)\n",
    "    return (Gamma+1)*(1+gamma*(Gamma-1))**2 / (2+gamma*(2-gamma)*(Gamma-1)) - Gsh**2\n"
   ]
  },
  {
   "cell_type": "code",
   "execution_count": 152,
   "id": "7de24ad1",
   "metadata": {},
   "outputs": [
    {
     "data": {
      "text/plain": [
       "(1.0100964050021284, 1.3902066270681406)"
      ]
     },
     "execution_count": 152,
     "metadata": {},
     "output_type": "execute_result"
    }
   ],
   "source": [
    "gammas_sh.min(), gammas_sh.max()"
   ]
  },
  {
   "cell_type": "code",
   "execution_count": 149,
   "id": "fe6b4be3",
   "metadata": {},
   "outputs": [
    {
     "name": "stdout",
     "output_type": "stream",
     "text": [
      "1.386633072921673 7.505231695879304\n"
     ]
    },
    {
     "name": "stderr",
     "output_type": "stream",
     "text": [
      "/tmp/ipykernel_751298/2358074863.py:5: RuntimeWarning: invalid value encountered in double_scalars\n",
      "  return kn(3, x)/kn(2,x)-1/x\n",
      "/tmp/ipykernel_751298/2358074863.py:8: RuntimeWarning: invalid value encountered in double_scalars\n",
      "  return 1 + 4*kn(2,x) / x / (3*kn(3,x)+kn(1,x)-4*kn(2,x))\n"
     ]
    },
    {
     "data": {
      "image/png": "[encoded data removed]",
      "text/plain": [
       "<Figure size 432x288 with 1 Axes>"
      ]
     },
     "metadata": {
      "needs_background": "light"
     },
     "output_type": "display_data"
    }
   ],
   "source": [
    "\n",
    "Gsh=gammas_sh[0,40]\n",
    "x=np.linspace(1./Gsh,100*Gsh)\n",
    "plt.plot(x,rootfunc(x,Gsh))\n",
    "plt.plot(x,np.zeros_like(x))\n",
    "plt.plot([1/Gsh, 1/Gsh],[0,10])\n",
    "plt.plot([100*Gsh, 100*Gsh],[0,10])\n",
    "plt.ylim(-1,1)\n",
    "zetas = sciopt.bisect(rootfunc,args=Gsh, a=1/Gsh, b=1000*Gsh).real\n",
    "print(Gsh,res)\n"
   ]
  },
  {
   "cell_type": "code",
   "execution_count": 114,
   "id": "a8b6f2bf",
   "metadata": {},
   "outputs": [],
   "source": [
    "Gamma = G(res)\n",
    "gamma = g(res)\n",
    "nprime = n0 * (gamma*Gamma + 1) / (gamma - 1)\n",
    "eprime = mpc2 * nprime * (Gamma-1)"
   ]
  },
  {
   "cell_type": "code",
   "execution_count": 125,
   "id": "e5a146e3",
   "metadata": {},
   "outputs": [],
   "source": [
    "beta = np.sqrt(1 - 1/Gamma**2)\n",
    "bu = Bsh\n",
    "bd = (Bsh-beta)/(1-beta*Bsh)\n",
    "e_index = (3*bu - 2*bu*bd**2 + bd**3) / (bu - bd) - 2"
   ]
  },
  {
   "cell_type": "code",
   "execution_count": 126,
   "id": "41cb327a",
   "metadata": {},
   "outputs": [
    {
     "data": {
      "text/plain": [
       "array([9.95037190e-01, 9.95037190e-01, 9.95037190e-01, 9.95037190e-01,\n",
       "       9.95037190e-01, 9.95037190e-01, 9.95037190e-01, 9.95037190e-01,\n",
       "       9.95037190e-01, 9.95037190e-01, 9.90348096e-01, 9.69241946e-01,\n",
       "       9.13714472e-01, 8.04914789e-01, 6.59379592e-01, 5.18609987e-01,\n",
       "       4.03712819e-01, 3.14408899e-01, 2.45113985e-01, 1.91056246e-01,\n",
       "       1.48789505e-01, 1.15757605e-01, 8.99824945e-02, 6.99022739e-02,\n",
       "       5.42791898e-02, 4.21355080e-02, 3.27024961e-02, 2.53782367e-02,\n",
       "       1.96928864e-02, 1.52804839e-02, 1.18563881e-02, 9.19941272e-03,\n",
       "       7.13778006e-03, 5.53813327e-03, 4.29696616e-03, 3.33395267e-03,\n",
       "       2.58676098e-03, 2.00702505e-03, 1.55721672e-03, 1.20821768e-03,\n",
       "       9.37435140e-04, 7.27339583e-04, 5.64330064e-04, 4.37853810e-04,\n",
       "       3.39723092e-04, 2.63585185e-04, 2.04511117e-04, 1.58676584e-04,\n",
       "       1.23114375e-04, 9.55222807e-05])"
      ]
     },
     "execution_count": 126,
     "metadata": {},
     "output_type": "execute_result"
    }
   ],
   "source": [
    "g_prime_m = np.max(1, (e_index-1)/(e_index+1)*mp/me*eps_e*(Gamma-1))\n",
    "n_prime_R = n_prime * np.min(1, p-2/p-1*mp/me/eps_e*(Gamma-1))\n",
    "g_prime_c = 3*mec*Gamma / (4*sigmaT*eps_b*eprime*t)\n"
   ]
  },
  {
   "cell_type": "code",
   "execution_count": null,
   "id": "42891a32",
   "metadata": {},
   "outputs": [],
   "source": [
    "B_prime = np.sqrt(8*pi*eps_b*eprime)\n",
    "def peak_emissivity(e_index):\n",
    "    return 0.88*256/27*(e_index-1)/(3*e_index-1)*qe**3/mec2 * n_prime_R * B_prime\n",
    "nu_prime_m = 3/16 * g_prime_m**2*qe*B_prime/mec\n",
    "nu_prime_c = 3/16 * g_prime_c**2*qe*B_prime/mec\n",
    "\n",
    "def emissivity(nu, nu_prime_m, nu_prime_c):\n",
    "    p = e_index\n",
    "    res=zeros_like(nu)\n",
    "    if nu_prime_m < nu_prime_c:\n",
    "        res[nu<nu_prime_m] = (nu / nu_prime_m)**(1/3)\n",
    "        res[nu>=nu_prime_c] = (nu_prime_c/nu_prime_m)**(-(p-1)/2) * (nu/nu_prime_c)**(-p/2.)\n",
    "        res[np.logical_and(nu>=nu_prime_m, nu<nu_prime_c)] = (nu / nu_prime_m)**(-(p-1)/2)\n",
    "    if nu_prime>=nu_prime_c:\n",
    "        res[nu<nu_prime_c] = (nu / nu_prime_c)**(1/3)\n",
    "        res[nu>=nu_prime_m] = (nu_prime_m/nu_prime_c)**(-1/2) * (nu/nu_prime_m)**(-p/2.)\n",
    "        res[np.logical_and(nu>=nu_prime_c, nu<nu_prime_m)] = (nu/nu_prime_c)**(-1/2)\n",
    "    return peak_emissivity(p) * res"
   ]
  },
  {
   "cell_type": "code",
   "execution_count": null,
   "id": "9634260c",
   "metadata": {},
   "outputs": [],
   "source": [
    "from scipy.special import gamma as gfunc\n",
    "\n",
    "g_prime_min = np.min(g_prime_c, g_prime_m)\n",
    "nu_prime_min = np.min(nu_prime_c, nu_prime_m)\n",
    "p_tilde = 2\n",
    "if g_prime_m < g_prime_c:\n",
    "    p_tilde = e_index\n",
    "nu_prime_0 = ( (2**((3*p_tilde+8)/2)*(p_tilde-1)*gfunc(3/2+p_tilde/4)*gfunc(11/6+p_tilde/4)*gfunc(1/6+p_tilde/4)*qe*nprime_R) \\\n",
    "              / ((p_tilde+2*gfunc(2+p_tilde/4)*g_prime_min**5*B_prime)) )**(6/(3*p_tilde+2))\n",
    "\n",
    "self_abs_coeff = 2**6*pi**(5/6)*(p_tilde+2)*(p_tilde-1)*qe*n_prime_R / \\\n",
    "(15*(3*p_tilde+2)*gfunc(5/6)*g_prime_min**5*B_prime) *(nu_prime_0/nu_prime_min)**(-5/3)\n",
    "\n",
    "def alpha_prime(nu):\n",
    "    res=zeros_like(nu)\n",
    "    res[nu<nu_prime_0] = (nu/nu_prime_0)**(-5/3)\n",
    "    res[nu>=nu_prime_0] = (nu/nu_prime_0)**(-(p_tilde+4)/2)\n",
    "    return res * self_abs_coeff\n",
    "    \n",
    "def alpha(nu) : return G(x)*(1-b(x)*mu)*alpha_prime(nu)\n",
    "delta_s = R / (12*G(x)**2*np.abs(mu-bsh))\n",
    "def tau(nu) : return alpha(nu) * delta_s"
   ]
  },
  {
   "cell_type": "code",
   "execution_count": 4,
   "id": "d7fcd9cf",
   "metadata": {},
   "outputs": [
    {
     "name": "stderr",
     "output_type": "stream",
     "text": [
      "/home/cohen/miniconda3/envs/grb/lib/python3.9/site-packages/scipy-1.9.0-py3.9-linux-x86_64.egg/scipy/optimize/_zeros_py.py:556: RuntimeWarning: invalid value encountered in double_scalars\n",
      "  r = _zeros._bisect(f, a, b, xtol, rtol, maxiter, args, full_output, disp)\n",
      "/home/cohen/miniconda3/envs/grb/lib/python3.9/site-packages/scipy-1.9.0-py3.9-linux-x86_64.egg/scipy/optimize/_zeros_py.py:556: RuntimeWarning: divide by zero encountered in double_scalars\n",
      "  r = _zeros._bisect(f, a, b, xtol, rtol, maxiter, args, full_output, disp)\n"
     ]
    },
    {
     "ename": "ValueError",
     "evalue": "math domain error",
     "output_type": "error",
     "traceback": [
      "\u001b[0;31m---------------------------------------------------------------------------\u001b[0m",
      "\u001b[0;31mValueError\u001b[0m                                Traceback (most recent call last)",
      "\u001b[0;31mValueError\u001b[0m: math domain error"
     ]
    },
    {
     "name": "stderr",
     "output_type": "stream",
     "text": [
      "Exception ignored in: 'funcs._B_prime'\n",
      "Traceback (most recent call last):\n",
      "  File \"/tmp/ipykernel_1665650/1969838231.py\", line 14, in <cell line: 14>\n",
      "ValueError: math domain error\n"
     ]
    },
    {
     "ename": "ZeroDivisionError",
     "evalue": "float division",
     "output_type": "error",
     "traceback": [
      "\u001b[0;31m---------------------------------------------------------------------------\u001b[0m",
      "\u001b[0;31mZeroDivisionError\u001b[0m                         Traceback (most recent call last)",
      "\u001b[0;31mZeroDivisionError\u001b[0m: float division"
     ]
    },
    {
     "name": "stderr",
     "output_type": "stream",
     "text": [
      "Exception ignored in: 'funcs._emissivity'\n",
      "Traceback (most recent call last):\n",
      "  File \"/tmp/ipykernel_1665650/1969838231.py\", line 14, in <cell line: 14>\n",
      "ZeroDivisionError: float division\n"
     ]
    },
    {
     "name": "stdout",
     "output_type": "stream",
     "text": [
      "1.5720945334352542e-18 0.0 0.0\n"
     ]
    },
    {
     "ename": "ZeroDivisionError",
     "evalue": "float division",
     "output_type": "error",
     "traceback": [
      "\u001b[0;31m---------------------------------------------------------------------------\u001b[0m",
      "\u001b[0;31mZeroDivisionError\u001b[0m                         Traceback (most recent call last)",
      "Input \u001b[0;32mIn [4]\u001b[0m, in \u001b[0;36m<cell line: 14>\u001b[0;34m()\u001b[0m\n\u001b[1;32m     11\u001b[0m E_g \u001b[38;5;241m=\u001b[39m \u001b[38;5;241m1.16e52\u001b[39m\n\u001b[1;32m     13\u001b[0m \u001b[38;5;66;03m#funcs.synchrotron_flux(T, nu, n0, eps_e, eps_b, theta_v, D_L, Gshmax, theta_G, theta_c, E_g)\u001b[39;00m\n\u001b[0;32m---> 14\u001b[0m \u001b[43mfuncs\u001b[49m\u001b[38;5;241;43m.\u001b[39;49m\u001b[43m_flux_integrand\u001b[49m\u001b[43m(\u001b[49m\u001b[38;5;241;43m0.5\u001b[39;49m\u001b[43m,\u001b[49m\u001b[43m \u001b[49m\u001b[38;5;241;43m0.5\u001b[39;49m\u001b[43m,\u001b[49m\u001b[43m \u001b[49m\u001b[43mT\u001b[49m\u001b[43m,\u001b[49m\u001b[43m \u001b[49m\u001b[43mnu\u001b[49m\u001b[43m,\u001b[49m\u001b[43m \u001b[49m\u001b[43mn0\u001b[49m\u001b[43m,\u001b[49m\u001b[43m \u001b[49m\u001b[43meps_e\u001b[49m\u001b[43m,\u001b[49m\u001b[43m \u001b[49m\u001b[43meps_b\u001b[49m\u001b[43m,\u001b[49m\u001b[43m \u001b[49m\u001b[43mtheta_v\u001b[49m\u001b[43m,\u001b[49m\u001b[43m \u001b[49m\u001b[43mGshmax\u001b[49m\u001b[43m,\u001b[49m\u001b[43m \u001b[49m\u001b[43mtheta_G\u001b[49m\u001b[43m,\u001b[49m\u001b[43m \u001b[49m\u001b[43mtheta_c\u001b[49m\u001b[43m,\u001b[49m\u001b[43m \u001b[49m\u001b[43mE_g\u001b[49m\u001b[43m)\u001b[49m\n",
      "File \u001b[0;32m~/lsst/codes/grb/jct_notebooks/funcs.pyx:289\u001b[0m, in \u001b[0;36mfuncs._flux_integrand\u001b[0;34m()\u001b[0m\n\u001b[1;32m    287\u001b[0m cdef double nu_prime_0 = _nu_prime_0(p_tilde, nu_prime_min)\n\u001b[1;32m    288\u001b[0m \n\u001b[0;32m--> 289\u001b[0m cdef double self_abs_coeff = _self_abs_coeff(p_tilde, nu_prime_0, nu_prime_min, n_prime_R, g_prime_min, Bprime)\n\u001b[1;32m    290\u001b[0m cdef double alpha_prime = _alpha_prime(nu_prime, nu_prime_0, p_tilde, self_abs_coeff)\n\u001b[1;32m    291\u001b[0m \n",
      "File \u001b[0;32m~/lsst/codes/grb/jct_notebooks/funcs.pyx:218\u001b[0m, in \u001b[0;36mfuncs._self_abs_coeff\u001b[0;34m()\u001b[0m\n\u001b[1;32m    216\u001b[0m print(res, nu0, nu_prime_min)\n\u001b[1;32m    217\u001b[0m res *= (p+2)*(p-1)/(3*p+2)\n\u001b[0;32m--> 218\u001b[0m res *= n_prime_R / g_prime_min**5 / Bprime\n\u001b[1;32m    219\u001b[0m return res * (nu0 / nu_prime_min)**(-5/3)\n\u001b[1;32m    220\u001b[0m \n",
      "\u001b[0;31mZeroDivisionError\u001b[0m: float division"
     ]
    }
   ],
   "source": [
    "T = 10*day2sec\n",
    "nu = 1e18\n",
    "n0 = 1.e-3\n",
    "eps_e = 0.5\n",
    "eps_b = 0.5\n",
    "theta_v = 0.25\n",
    "D_L = 1\n",
    "Gshmax = 100\n",
    "theta_G = 0.3\n",
    "theta_c = 0.059\n",
    "E_g = 1.16e52\n",
    "\n",
    "#funcs.synchrotron_flux(T, nu, n0, eps_e, eps_b, theta_v, D_L, Gshmax, theta_G, theta_c, E_g)\n",
    "funcs._flux_integrand(0.5, 0.5, T, nu, n0, eps_e, eps_b, theta_v, Gshmax, theta_G, theta_c, E_g)"
   ]
  }
 ],
 "metadata": {
  "kernelspec": {
   "display_name": "Python 3 (ipykernel)",
   "language": "python",
   "name": "python3"
  },
  "language_info": {
   "codemirror_mode": {
    "name": "ipython",
    "version": 3
   },
   "file_extension": ".py",
   "mimetype": "text/x-python",
   "name": "python",
   "nbconvert_exporter": "python",
   "pygments_lexer": "ipython3",
   "version": "3.9.12"
  }
 },
 "nbformat": 4,
 "nbformat_minor": 5
}
