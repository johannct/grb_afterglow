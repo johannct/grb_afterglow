{
 "cells": [
  {
   "cell_type": "code",
   "execution_count": 1,
   "id": "b9b45b64",
   "metadata": {},
   "outputs": [
    {
     "name": "stderr",
     "output_type": "stream",
     "text": [
      "/home/cohen/miniconda3/envs/grb/lib/python3.9/site-packages/scipy-1.9.0-py3.9-linux-x86_64.egg/scipy/integrate/_quadpack_py.py:1151: IntegrationWarning: The maximum number of subdivisions (50) has been achieved.\n",
      "  If increasing the limit yields no improvement it is advised to analyze \n",
      "  the integrand in order to determine the difficulties.  If the position of a \n",
      "  local difficulty can be determined (singularity, discontinuity) one will \n",
      "  probably gain from splitting up the interval and calling the integrator \n",
      "  on the subranges.  Perhaps a special-purpose integrator should be used.\n",
      "  quad_r = quad(f, low, high, args=args, full_output=self.full_output,\n"
     ]
    },
    {
     "ename": "KeyboardInterrupt",
     "evalue": "",
     "output_type": "error",
     "traceback": [
      "\u001b[0;31m---------------------------------------------------------------------------\u001b[0m",
      "\u001b[0;31mKeyboardInterrupt\u001b[0m                         Traceback (most recent call last)",
      "Input \u001b[0;32mIn [1]\u001b[0m, in \u001b[0;36m<cell line: 33>\u001b[0;34m()\u001b[0m\n\u001b[1;32m     30\u001b[0m theta_c \u001b[38;5;241m=\u001b[39m \u001b[38;5;241m0.059\u001b[39m\n\u001b[1;32m     31\u001b[0m E_g \u001b[38;5;241m=\u001b[39m \u001b[38;5;241m1.16e52\u001b[39m\n\u001b[0;32m---> 33\u001b[0m \u001b[43mfuncs\u001b[49m\u001b[38;5;241;43m.\u001b[39;49m\u001b[43msynchrotron_flux\u001b[49m\u001b[43m(\u001b[49m\u001b[43mT\u001b[49m\u001b[43m,\u001b[49m\u001b[43m \u001b[49m\u001b[43mnu\u001b[49m\u001b[43m,\u001b[49m\u001b[43m \u001b[49m\u001b[43mn0\u001b[49m\u001b[43m,\u001b[49m\u001b[43m \u001b[49m\u001b[43meps_e\u001b[49m\u001b[43m,\u001b[49m\u001b[43m \u001b[49m\u001b[43meps_b\u001b[49m\u001b[43m,\u001b[49m\u001b[43m \u001b[49m\u001b[43mtheta_v\u001b[49m\u001b[43m,\u001b[49m\u001b[43m \u001b[49m\u001b[43mD_L\u001b[49m\u001b[43m,\u001b[49m\u001b[43m \u001b[49m\u001b[43mGshmax\u001b[49m\u001b[43m,\u001b[49m\u001b[43m \u001b[49m\u001b[43mtheta_G\u001b[49m\u001b[43m,\u001b[49m\u001b[43m \u001b[49m\u001b[43mtheta_c\u001b[49m\u001b[43m,\u001b[49m\u001b[43m \u001b[49m\u001b[43mE_g\u001b[49m\u001b[43m)\u001b[49m \u001b[38;5;241m*\u001b[39m cgi2mJy\n",
      "File \u001b[0;32m~/lsst/codes/grb/jct_notebooks/funcs.pyx:358\u001b[0m, in \u001b[0;36mfuncs.synchrotron_flux\u001b[0;34m()\u001b[0m\n\u001b[1;32m    356\u001b[0m #eq.29\n\u001b[1;32m    357\u001b[0m def synchrotron_flux(double T, double nu, double n0, double eps_e, double eps_b, double theta_v, double D_L, double Gshmax, double theta_G, double theta_c, double E_g):\n\u001b[0;32m--> 358\u001b[0m     res = sciint.nquad(_flux_integrand, [(0, 2*pi), (0, theta_c)], args=(T, nu, n0, eps_e, eps_b, theta_v, Gshmax, theta_G, theta_c, E_g), opts=None, full_output=False)\n\u001b[1;32m    359\u001b[0m     print(res)\n\u001b[1;32m    360\u001b[0m     return res[0] / 4 / pi / D_L**2\n",
      "File \u001b[0;32m~/miniconda3/envs/grb/lib/python3.9/site-packages/scipy-1.9.0-py3.9-linux-x86_64.egg/scipy/integrate/_quadpack_py.py:1097\u001b[0m, in \u001b[0;36mnquad\u001b[0;34m(func, ranges, args, opts, full_output)\u001b[0m\n\u001b[1;32m   1095\u001b[0m \u001b[38;5;28;01melse\u001b[39;00m:\n\u001b[1;32m   1096\u001b[0m     opts \u001b[38;5;241m=\u001b[39m [opt \u001b[38;5;28;01mif\u001b[39;00m callable(opt) \u001b[38;5;28;01melse\u001b[39;00m _OptFunc(opt) \u001b[38;5;28;01mfor\u001b[39;00m opt \u001b[38;5;129;01min\u001b[39;00m opts]\n\u001b[0;32m-> 1097\u001b[0m \u001b[38;5;28;01mreturn\u001b[39;00m \u001b[43m_NQuad\u001b[49m\u001b[43m(\u001b[49m\u001b[43mfunc\u001b[49m\u001b[43m,\u001b[49m\u001b[43m \u001b[49m\u001b[43mranges\u001b[49m\u001b[43m,\u001b[49m\u001b[43m \u001b[49m\u001b[43mopts\u001b[49m\u001b[43m,\u001b[49m\u001b[43m \u001b[49m\u001b[43mfull_output\u001b[49m\u001b[43m)\u001b[49m\u001b[38;5;241;43m.\u001b[39;49m\u001b[43mintegrate\u001b[49m\u001b[43m(\u001b[49m\u001b[38;5;241;43m*\u001b[39;49m\u001b[43margs\u001b[49m\u001b[43m)\u001b[49m\n",
      "File \u001b[0;32m~/miniconda3/envs/grb/lib/python3.9/site-packages/scipy-1.9.0-py3.9-linux-x86_64.egg/scipy/integrate/_quadpack_py.py:1151\u001b[0m, in \u001b[0;36m_NQuad.integrate\u001b[0;34m(self, *args, **kwargs)\u001b[0m\n\u001b[1;32m   1149\u001b[0m \u001b[38;5;28;01melse\u001b[39;00m:\n\u001b[1;32m   1150\u001b[0m     f \u001b[38;5;241m=\u001b[39m partial(\u001b[38;5;28mself\u001b[39m\u001b[38;5;241m.\u001b[39mintegrate, depth\u001b[38;5;241m=\u001b[39mdepth\u001b[38;5;241m+\u001b[39m\u001b[38;5;241m1\u001b[39m)\n\u001b[0;32m-> 1151\u001b[0m quad_r \u001b[38;5;241m=\u001b[39m \u001b[43mquad\u001b[49m\u001b[43m(\u001b[49m\u001b[43mf\u001b[49m\u001b[43m,\u001b[49m\u001b[43m \u001b[49m\u001b[43mlow\u001b[49m\u001b[43m,\u001b[49m\u001b[43m \u001b[49m\u001b[43mhigh\u001b[49m\u001b[43m,\u001b[49m\u001b[43m \u001b[49m\u001b[43margs\u001b[49m\u001b[38;5;241;43m=\u001b[39;49m\u001b[43margs\u001b[49m\u001b[43m,\u001b[49m\u001b[43m \u001b[49m\u001b[43mfull_output\u001b[49m\u001b[38;5;241;43m=\u001b[39;49m\u001b[38;5;28;43mself\u001b[39;49m\u001b[38;5;241;43m.\u001b[39;49m\u001b[43mfull_output\u001b[49m\u001b[43m,\u001b[49m\n\u001b[1;32m   1152\u001b[0m \u001b[43m              \u001b[49m\u001b[38;5;241;43m*\u001b[39;49m\u001b[38;5;241;43m*\u001b[39;49m\u001b[43mopt\u001b[49m\u001b[43m)\u001b[49m\n\u001b[1;32m   1153\u001b[0m value \u001b[38;5;241m=\u001b[39m quad_r[\u001b[38;5;241m0\u001b[39m]\n\u001b[1;32m   1154\u001b[0m abserr \u001b[38;5;241m=\u001b[39m quad_r[\u001b[38;5;241m1\u001b[39m]\n",
      "File \u001b[0;32m~/miniconda3/envs/grb/lib/python3.9/site-packages/scipy-1.9.0-py3.9-linux-x86_64.egg/scipy/integrate/_quadpack_py.py:411\u001b[0m, in \u001b[0;36mquad\u001b[0;34m(func, a, b, args, full_output, epsabs, epsrel, limit, points, weight, wvar, wopts, maxp1, limlst)\u001b[0m\n\u001b[1;32m    408\u001b[0m flip, a, b \u001b[38;5;241m=\u001b[39m b \u001b[38;5;241m<\u001b[39m a, \u001b[38;5;28mmin\u001b[39m(a, b), \u001b[38;5;28mmax\u001b[39m(a, b)\n\u001b[1;32m    410\u001b[0m \u001b[38;5;28;01mif\u001b[39;00m weight \u001b[38;5;129;01mis\u001b[39;00m \u001b[38;5;28;01mNone\u001b[39;00m:\n\u001b[0;32m--> 411\u001b[0m     retval \u001b[38;5;241m=\u001b[39m \u001b[43m_quad\u001b[49m\u001b[43m(\u001b[49m\u001b[43mfunc\u001b[49m\u001b[43m,\u001b[49m\u001b[43m \u001b[49m\u001b[43ma\u001b[49m\u001b[43m,\u001b[49m\u001b[43m \u001b[49m\u001b[43mb\u001b[49m\u001b[43m,\u001b[49m\u001b[43m \u001b[49m\u001b[43margs\u001b[49m\u001b[43m,\u001b[49m\u001b[43m \u001b[49m\u001b[43mfull_output\u001b[49m\u001b[43m,\u001b[49m\u001b[43m \u001b[49m\u001b[43mepsabs\u001b[49m\u001b[43m,\u001b[49m\u001b[43m \u001b[49m\u001b[43mepsrel\u001b[49m\u001b[43m,\u001b[49m\u001b[43m \u001b[49m\u001b[43mlimit\u001b[49m\u001b[43m,\u001b[49m\n\u001b[1;32m    412\u001b[0m \u001b[43m                   \u001b[49m\u001b[43mpoints\u001b[49m\u001b[43m)\u001b[49m\n\u001b[1;32m    413\u001b[0m \u001b[38;5;28;01melse\u001b[39;00m:\n\u001b[1;32m    414\u001b[0m     \u001b[38;5;28;01mif\u001b[39;00m points \u001b[38;5;129;01mis\u001b[39;00m \u001b[38;5;129;01mnot\u001b[39;00m \u001b[38;5;28;01mNone\u001b[39;00m:\n",
      "File \u001b[0;32m~/miniconda3/envs/grb/lib/python3.9/site-packages/scipy-1.9.0-py3.9-linux-x86_64.egg/scipy/integrate/_quadpack_py.py:523\u001b[0m, in \u001b[0;36m_quad\u001b[0;34m(func, a, b, args, full_output, epsabs, epsrel, limit, points)\u001b[0m\n\u001b[1;32m    521\u001b[0m \u001b[38;5;28;01mif\u001b[39;00m points \u001b[38;5;129;01mis\u001b[39;00m \u001b[38;5;28;01mNone\u001b[39;00m:\n\u001b[1;32m    522\u001b[0m     \u001b[38;5;28;01mif\u001b[39;00m infbounds \u001b[38;5;241m==\u001b[39m \u001b[38;5;241m0\u001b[39m:\n\u001b[0;32m--> 523\u001b[0m         \u001b[38;5;28;01mreturn\u001b[39;00m \u001b[43m_quadpack\u001b[49m\u001b[38;5;241;43m.\u001b[39;49m\u001b[43m_qagse\u001b[49m\u001b[43m(\u001b[49m\u001b[43mfunc\u001b[49m\u001b[43m,\u001b[49m\u001b[43ma\u001b[49m\u001b[43m,\u001b[49m\u001b[43mb\u001b[49m\u001b[43m,\u001b[49m\u001b[43margs\u001b[49m\u001b[43m,\u001b[49m\u001b[43mfull_output\u001b[49m\u001b[43m,\u001b[49m\u001b[43mepsabs\u001b[49m\u001b[43m,\u001b[49m\u001b[43mepsrel\u001b[49m\u001b[43m,\u001b[49m\u001b[43mlimit\u001b[49m\u001b[43m)\u001b[49m\n\u001b[1;32m    524\u001b[0m     \u001b[38;5;28;01melse\u001b[39;00m:\n\u001b[1;32m    525\u001b[0m         \u001b[38;5;28;01mreturn\u001b[39;00m _quadpack\u001b[38;5;241m.\u001b[39m_qagie(func,bound,infbounds,args,full_output,epsabs,epsrel,limit)\n",
      "File \u001b[0;32m~/miniconda3/envs/grb/lib/python3.9/site-packages/scipy-1.9.0-py3.9-linux-x86_64.egg/scipy/integrate/_quadpack_py.py:1151\u001b[0m, in \u001b[0;36m_NQuad.integrate\u001b[0;34m(self, *args, **kwargs)\u001b[0m\n\u001b[1;32m   1149\u001b[0m \u001b[38;5;28;01melse\u001b[39;00m:\n\u001b[1;32m   1150\u001b[0m     f \u001b[38;5;241m=\u001b[39m partial(\u001b[38;5;28mself\u001b[39m\u001b[38;5;241m.\u001b[39mintegrate, depth\u001b[38;5;241m=\u001b[39mdepth\u001b[38;5;241m+\u001b[39m\u001b[38;5;241m1\u001b[39m)\n\u001b[0;32m-> 1151\u001b[0m quad_r \u001b[38;5;241m=\u001b[39m \u001b[43mquad\u001b[49m\u001b[43m(\u001b[49m\u001b[43mf\u001b[49m\u001b[43m,\u001b[49m\u001b[43m \u001b[49m\u001b[43mlow\u001b[49m\u001b[43m,\u001b[49m\u001b[43m \u001b[49m\u001b[43mhigh\u001b[49m\u001b[43m,\u001b[49m\u001b[43m \u001b[49m\u001b[43margs\u001b[49m\u001b[38;5;241;43m=\u001b[39;49m\u001b[43margs\u001b[49m\u001b[43m,\u001b[49m\u001b[43m \u001b[49m\u001b[43mfull_output\u001b[49m\u001b[38;5;241;43m=\u001b[39;49m\u001b[38;5;28;43mself\u001b[39;49m\u001b[38;5;241;43m.\u001b[39;49m\u001b[43mfull_output\u001b[49m\u001b[43m,\u001b[49m\n\u001b[1;32m   1152\u001b[0m \u001b[43m              \u001b[49m\u001b[38;5;241;43m*\u001b[39;49m\u001b[38;5;241;43m*\u001b[39;49m\u001b[43mopt\u001b[49m\u001b[43m)\u001b[49m\n\u001b[1;32m   1153\u001b[0m value \u001b[38;5;241m=\u001b[39m quad_r[\u001b[38;5;241m0\u001b[39m]\n\u001b[1;32m   1154\u001b[0m abserr \u001b[38;5;241m=\u001b[39m quad_r[\u001b[38;5;241m1\u001b[39m]\n",
      "File \u001b[0;32m~/miniconda3/envs/grb/lib/python3.9/site-packages/scipy-1.9.0-py3.9-linux-x86_64.egg/scipy/integrate/_quadpack_py.py:411\u001b[0m, in \u001b[0;36mquad\u001b[0;34m(func, a, b, args, full_output, epsabs, epsrel, limit, points, weight, wvar, wopts, maxp1, limlst)\u001b[0m\n\u001b[1;32m    408\u001b[0m flip, a, b \u001b[38;5;241m=\u001b[39m b \u001b[38;5;241m<\u001b[39m a, \u001b[38;5;28mmin\u001b[39m(a, b), \u001b[38;5;28mmax\u001b[39m(a, b)\n\u001b[1;32m    410\u001b[0m \u001b[38;5;28;01mif\u001b[39;00m weight \u001b[38;5;129;01mis\u001b[39;00m \u001b[38;5;28;01mNone\u001b[39;00m:\n\u001b[0;32m--> 411\u001b[0m     retval \u001b[38;5;241m=\u001b[39m \u001b[43m_quad\u001b[49m\u001b[43m(\u001b[49m\u001b[43mfunc\u001b[49m\u001b[43m,\u001b[49m\u001b[43m \u001b[49m\u001b[43ma\u001b[49m\u001b[43m,\u001b[49m\u001b[43m \u001b[49m\u001b[43mb\u001b[49m\u001b[43m,\u001b[49m\u001b[43m \u001b[49m\u001b[43margs\u001b[49m\u001b[43m,\u001b[49m\u001b[43m \u001b[49m\u001b[43mfull_output\u001b[49m\u001b[43m,\u001b[49m\u001b[43m \u001b[49m\u001b[43mepsabs\u001b[49m\u001b[43m,\u001b[49m\u001b[43m \u001b[49m\u001b[43mepsrel\u001b[49m\u001b[43m,\u001b[49m\u001b[43m \u001b[49m\u001b[43mlimit\u001b[49m\u001b[43m,\u001b[49m\n\u001b[1;32m    412\u001b[0m \u001b[43m                   \u001b[49m\u001b[43mpoints\u001b[49m\u001b[43m)\u001b[49m\n\u001b[1;32m    413\u001b[0m \u001b[38;5;28;01melse\u001b[39;00m:\n\u001b[1;32m    414\u001b[0m     \u001b[38;5;28;01mif\u001b[39;00m points \u001b[38;5;129;01mis\u001b[39;00m \u001b[38;5;129;01mnot\u001b[39;00m \u001b[38;5;28;01mNone\u001b[39;00m:\n",
      "File \u001b[0;32m~/miniconda3/envs/grb/lib/python3.9/site-packages/scipy-1.9.0-py3.9-linux-x86_64.egg/scipy/integrate/_quadpack_py.py:523\u001b[0m, in \u001b[0;36m_quad\u001b[0;34m(func, a, b, args, full_output, epsabs, epsrel, limit, points)\u001b[0m\n\u001b[1;32m    521\u001b[0m \u001b[38;5;28;01mif\u001b[39;00m points \u001b[38;5;129;01mis\u001b[39;00m \u001b[38;5;28;01mNone\u001b[39;00m:\n\u001b[1;32m    522\u001b[0m     \u001b[38;5;28;01mif\u001b[39;00m infbounds \u001b[38;5;241m==\u001b[39m \u001b[38;5;241m0\u001b[39m:\n\u001b[0;32m--> 523\u001b[0m         \u001b[38;5;28;01mreturn\u001b[39;00m \u001b[43m_quadpack\u001b[49m\u001b[38;5;241;43m.\u001b[39;49m\u001b[43m_qagse\u001b[49m\u001b[43m(\u001b[49m\u001b[43mfunc\u001b[49m\u001b[43m,\u001b[49m\u001b[43ma\u001b[49m\u001b[43m,\u001b[49m\u001b[43mb\u001b[49m\u001b[43m,\u001b[49m\u001b[43margs\u001b[49m\u001b[43m,\u001b[49m\u001b[43mfull_output\u001b[49m\u001b[43m,\u001b[49m\u001b[43mepsabs\u001b[49m\u001b[43m,\u001b[49m\u001b[43mepsrel\u001b[49m\u001b[43m,\u001b[49m\u001b[43mlimit\u001b[49m\u001b[43m)\u001b[49m\n\u001b[1;32m    524\u001b[0m     \u001b[38;5;28;01melse\u001b[39;00m:\n\u001b[1;32m    525\u001b[0m         \u001b[38;5;28;01mreturn\u001b[39;00m _quadpack\u001b[38;5;241m.\u001b[39m_qagie(func,bound,infbounds,args,full_output,epsabs,epsrel,limit)\n",
      "File \u001b[0;32m~/lsst/codes/grb/jct_notebooks/funcs.pyx:301\u001b[0m, in \u001b[0;36mfuncs._flux_integrand\u001b[0;34m()\u001b[0m\n\u001b[1;32m    299\u001b[0m cdef double mu = cos(theta)*cos(theta_v) + sin(theta)*sin(theta_v)*cos(phi)    \n\u001b[1;32m    300\u001b[0m cdef double x = _gaussian_profile(theta, theta_G, theta_c, E_g)/n0\n\u001b[0;32m--> 301\u001b[0m cdef double t = find_emission_time(T, x, Gshmax, mu)\n\u001b[1;32m    302\u001b[0m cdef double bsh = sqrt(_B2(t, x, Gshmax))\n\u001b[1;32m    303\u001b[0m cdef double gsh = sqrt(_G2(t, x, Gshmax))\n",
      "File \u001b[0;32m~/lsst/codes/grb/jct_notebooks/funcs.pyx:90\u001b[0m, in \u001b[0;36mfuncs.find_emission_time\u001b[0;34m()\u001b[0m\n\u001b[1;32m     88\u001b[0m #            return sciopt.bisect(func, a=T, b=10*T, args=(n0, Es[i], Gshmax, mus[i,j])).real\n\u001b[1;32m     89\u001b[0m #            return = sciopt.newton(func, x0=T, fprime=func_deriv, args=(n0, Es[i], Gshmax, mus[i,j]), maxiter=100).real\n\u001b[0;32m---> 90\u001b[0m     return sciopt.root_scalar(_func, x0=T, fprime=_func_deriv, method='newton',\\\n\u001b[1;32m     91\u001b[0m                               args=(x, Gshmax, T, mu), maxiter=50).root\n\u001b[1;32m     92\u001b[0m #            return sciopt.root_scalar(func, bracket=(T,10*T), method='bisect',\\\n",
      "File \u001b[0;32m~/miniconda3/envs/grb/lib/python3.9/site-packages/scipy-1.9.0-py3.9-linux-x86_64.egg/scipy/optimize/_root_scalar.py:266\u001b[0m, in \u001b[0;36mroot_scalar\u001b[0;34m(f, args, method, bracket, fprime, fprime2, x0, x1, xtol, rtol, maxiter, options)\u001b[0m\n\u001b[1;32m    264\u001b[0m     \u001b[38;5;28;01mif\u001b[39;00m \u001b[38;5;124m'\u001b[39m\u001b[38;5;124mxtol\u001b[39m\u001b[38;5;124m'\u001b[39m \u001b[38;5;129;01min\u001b[39;00m kwargs:\n\u001b[1;32m    265\u001b[0m         kwargs[\u001b[38;5;124m'\u001b[39m\u001b[38;5;124mtol\u001b[39m\u001b[38;5;124m'\u001b[39m] \u001b[38;5;241m=\u001b[39m kwargs\u001b[38;5;241m.\u001b[39mpop(\u001b[38;5;124m'\u001b[39m\u001b[38;5;124mxtol\u001b[39m\u001b[38;5;124m'\u001b[39m)\n\u001b[0;32m--> 266\u001b[0m     r, sol \u001b[38;5;241m=\u001b[39m \u001b[43mmethodc\u001b[49m\u001b[43m(\u001b[49m\u001b[43mf\u001b[49m\u001b[43m,\u001b[49m\u001b[43m \u001b[49m\u001b[43mx0\u001b[49m\u001b[43m,\u001b[49m\u001b[43m \u001b[49m\u001b[43margs\u001b[49m\u001b[38;5;241;43m=\u001b[39;49m\u001b[43margs\u001b[49m\u001b[43m,\u001b[49m\u001b[43m \u001b[49m\u001b[43mfprime\u001b[49m\u001b[38;5;241;43m=\u001b[39;49m\u001b[43mfprime\u001b[49m\u001b[43m,\u001b[49m\u001b[43m \u001b[49m\u001b[43mfprime2\u001b[49m\u001b[38;5;241;43m=\u001b[39;49m\u001b[38;5;28;43;01mNone\u001b[39;49;00m\u001b[43m,\u001b[49m\n\u001b[1;32m    267\u001b[0m \u001b[43m                     \u001b[49m\u001b[38;5;241;43m*\u001b[39;49m\u001b[38;5;241;43m*\u001b[39;49m\u001b[43mkwargs\u001b[49m\u001b[43m)\u001b[49m\n\u001b[1;32m    268\u001b[0m \u001b[38;5;28;01melif\u001b[39;00m meth \u001b[38;5;129;01min\u001b[39;00m [\u001b[38;5;124m'\u001b[39m\u001b[38;5;124mhalley\u001b[39m\u001b[38;5;124m'\u001b[39m]:\n\u001b[1;32m    269\u001b[0m     \u001b[38;5;28;01mif\u001b[39;00m x0 \u001b[38;5;129;01mis\u001b[39;00m \u001b[38;5;28;01mNone\u001b[39;00m:\n",
      "File \u001b[0;32m~/miniconda3/envs/grb/lib/python3.9/site-packages/scipy-1.9.0-py3.9-linux-x86_64.egg/scipy/optimize/_zeros_py.py:319\u001b[0m, in \u001b[0;36mnewton\u001b[0;34m(func, x0, fprime, args, tol, maxiter, fprime2, x1, rtol, full_output, disp)\u001b[0m\n\u001b[1;32m    317\u001b[0m         newton_step \u001b[38;5;241m/\u001b[39m\u001b[38;5;241m=\u001b[39m \u001b[38;5;241m1.0\u001b[39m \u001b[38;5;241m-\u001b[39m adj\n\u001b[1;32m    318\u001b[0m p \u001b[38;5;241m=\u001b[39m p0 \u001b[38;5;241m-\u001b[39m newton_step\n\u001b[0;32m--> 319\u001b[0m \u001b[38;5;28;01mif\u001b[39;00m \u001b[43mnp\u001b[49m\u001b[38;5;241;43m.\u001b[39;49m\u001b[43misclose\u001b[49m\u001b[43m(\u001b[49m\u001b[43mp\u001b[49m\u001b[43m,\u001b[49m\u001b[43m \u001b[49m\u001b[43mp0\u001b[49m\u001b[43m,\u001b[49m\u001b[43m \u001b[49m\u001b[43mrtol\u001b[49m\u001b[38;5;241;43m=\u001b[39;49m\u001b[43mrtol\u001b[49m\u001b[43m,\u001b[49m\u001b[43m \u001b[49m\u001b[43matol\u001b[49m\u001b[38;5;241;43m=\u001b[39;49m\u001b[43mtol\u001b[49m\u001b[43m)\u001b[49m:\n\u001b[1;32m    320\u001b[0m     \u001b[38;5;28;01mreturn\u001b[39;00m _results_select(\n\u001b[1;32m    321\u001b[0m         full_output, (p, funcalls, itr \u001b[38;5;241m+\u001b[39m \u001b[38;5;241m1\u001b[39m, _ECONVERGED))\n\u001b[1;32m    322\u001b[0m p0 \u001b[38;5;241m=\u001b[39m p\n",
      "File \u001b[0;32m<__array_function__ internals>:5\u001b[0m, in \u001b[0;36misclose\u001b[0;34m(*args, **kwargs)\u001b[0m\n",
      "File \u001b[0;32m~/miniconda3/envs/grb/lib/python3.9/site-packages/numpy/core/numeric.py:2357\u001b[0m, in \u001b[0;36misclose\u001b[0;34m(a, b, rtol, atol, equal_nan)\u001b[0m\n\u001b[1;32m   2355\u001b[0m xfin \u001b[38;5;241m=\u001b[39m isfinite(x)\n\u001b[1;32m   2356\u001b[0m yfin \u001b[38;5;241m=\u001b[39m isfinite(y)\n\u001b[0;32m-> 2357\u001b[0m \u001b[38;5;28;01mif\u001b[39;00m \u001b[38;5;28;43mall\u001b[39;49m\u001b[43m(\u001b[49m\u001b[43mxfin\u001b[49m\u001b[43m)\u001b[49m \u001b[38;5;129;01mand\u001b[39;00m \u001b[38;5;28mall\u001b[39m(yfin):\n\u001b[1;32m   2358\u001b[0m     \u001b[38;5;28;01mreturn\u001b[39;00m within_tol(x, y, atol, rtol)\n\u001b[1;32m   2359\u001b[0m \u001b[38;5;28;01melse\u001b[39;00m:\n",
      "File \u001b[0;32m<__array_function__ internals>:5\u001b[0m, in \u001b[0;36mall\u001b[0;34m(*args, **kwargs)\u001b[0m\n",
      "File \u001b[0;32m~/miniconda3/envs/grb/lib/python3.9/site-packages/numpy/core/fromnumeric.py:2450\u001b[0m, in \u001b[0;36mall\u001b[0;34m(a, axis, out, keepdims, where)\u001b[0m\n\u001b[1;32m   2367\u001b[0m \u001b[38;5;129m@array_function_dispatch\u001b[39m(_all_dispatcher)\n\u001b[1;32m   2368\u001b[0m \u001b[38;5;28;01mdef\u001b[39;00m \u001b[38;5;21mall\u001b[39m(a, axis\u001b[38;5;241m=\u001b[39m\u001b[38;5;28;01mNone\u001b[39;00m, out\u001b[38;5;241m=\u001b[39m\u001b[38;5;28;01mNone\u001b[39;00m, keepdims\u001b[38;5;241m=\u001b[39mnp\u001b[38;5;241m.\u001b[39m_NoValue, \u001b[38;5;241m*\u001b[39m, where\u001b[38;5;241m=\u001b[39mnp\u001b[38;5;241m.\u001b[39m_NoValue):\n\u001b[1;32m   2369\u001b[0m     \u001b[38;5;124;03m\"\"\"\u001b[39;00m\n\u001b[1;32m   2370\u001b[0m \u001b[38;5;124;03m    Test whether all array elements along a given axis evaluate to True.\u001b[39;00m\n\u001b[1;32m   2371\u001b[0m \n\u001b[0;32m   (...)\u001b[0m\n\u001b[1;32m   2448\u001b[0m \n\u001b[1;32m   2449\u001b[0m \u001b[38;5;124;03m    \"\"\"\u001b[39;00m\n\u001b[0;32m-> 2450\u001b[0m     \u001b[38;5;28;01mreturn\u001b[39;00m \u001b[43m_wrapreduction\u001b[49m\u001b[43m(\u001b[49m\u001b[43ma\u001b[49m\u001b[43m,\u001b[49m\u001b[43m \u001b[49m\u001b[43mnp\u001b[49m\u001b[38;5;241;43m.\u001b[39;49m\u001b[43mlogical_and\u001b[49m\u001b[43m,\u001b[49m\u001b[43m \u001b[49m\u001b[38;5;124;43m'\u001b[39;49m\u001b[38;5;124;43mall\u001b[39;49m\u001b[38;5;124;43m'\u001b[39;49m\u001b[43m,\u001b[49m\u001b[43m \u001b[49m\u001b[43maxis\u001b[49m\u001b[43m,\u001b[49m\u001b[43m \u001b[49m\u001b[38;5;28;43;01mNone\u001b[39;49;00m\u001b[43m,\u001b[49m\u001b[43m \u001b[49m\u001b[43mout\u001b[49m\u001b[43m,\u001b[49m\n\u001b[1;32m   2451\u001b[0m \u001b[43m                          \u001b[49m\u001b[43mkeepdims\u001b[49m\u001b[38;5;241;43m=\u001b[39;49m\u001b[43mkeepdims\u001b[49m\u001b[43m,\u001b[49m\u001b[43m \u001b[49m\u001b[43mwhere\u001b[49m\u001b[38;5;241;43m=\u001b[39;49m\u001b[43mwhere\u001b[49m\u001b[43m)\u001b[49m\n",
      "File \u001b[0;32m~/miniconda3/envs/grb/lib/python3.9/site-packages/numpy/core/fromnumeric.py:69\u001b[0m, in \u001b[0;36m_wrapreduction\u001b[0;34m(obj, ufunc, method, axis, dtype, out, **kwargs)\u001b[0m\n\u001b[1;32m     58\u001b[0m     \u001b[38;5;28;01mexcept\u001b[39;00m \u001b[38;5;167;01mTypeError\u001b[39;00m:\n\u001b[1;32m     59\u001b[0m         \u001b[38;5;66;03m# A TypeError occurs if the object does have such a method in its\u001b[39;00m\n\u001b[1;32m     60\u001b[0m         \u001b[38;5;66;03m# class, but its signature is not identical to that of NumPy's. This\u001b[39;00m\n\u001b[0;32m   (...)\u001b[0m\n\u001b[1;32m     64\u001b[0m         \u001b[38;5;66;03m# Call _wrapit from within the except clause to ensure a potential\u001b[39;00m\n\u001b[1;32m     65\u001b[0m         \u001b[38;5;66;03m# exception has a traceback chain.\u001b[39;00m\n\u001b[1;32m     66\u001b[0m         \u001b[38;5;28;01mreturn\u001b[39;00m _wrapit(obj, method, \u001b[38;5;241m*\u001b[39margs, \u001b[38;5;241m*\u001b[39m\u001b[38;5;241m*\u001b[39mkwds)\n\u001b[0;32m---> 69\u001b[0m \u001b[38;5;28;01mdef\u001b[39;00m \u001b[38;5;21m_wrapreduction\u001b[39m(obj, ufunc, method, axis, dtype, out, \u001b[38;5;241m*\u001b[39m\u001b[38;5;241m*\u001b[39mkwargs):\n\u001b[1;32m     70\u001b[0m     passkwargs \u001b[38;5;241m=\u001b[39m {k: v \u001b[38;5;28;01mfor\u001b[39;00m k, v \u001b[38;5;129;01min\u001b[39;00m kwargs\u001b[38;5;241m.\u001b[39mitems()\n\u001b[1;32m     71\u001b[0m                   \u001b[38;5;28;01mif\u001b[39;00m v \u001b[38;5;129;01mis\u001b[39;00m \u001b[38;5;129;01mnot\u001b[39;00m np\u001b[38;5;241m.\u001b[39m_NoValue}\n\u001b[1;32m     73\u001b[0m     \u001b[38;5;28;01mif\u001b[39;00m \u001b[38;5;28mtype\u001b[39m(obj) \u001b[38;5;129;01mis\u001b[39;00m \u001b[38;5;129;01mnot\u001b[39;00m mu\u001b[38;5;241m.\u001b[39mndarray:\n",
      "\u001b[0;31mKeyboardInterrupt\u001b[0m: "
     ]
    }
   ],
   "source": [
    "import numpy as np\n",
    "from matplotlib import pylab as plt\n",
    "%matplotlib inline\n",
    "plt.rcParams['text.usetex'] = True\n",
    "import scipy\n",
    "from scipy import integrate as sciint\n",
    "from scipy import optimize as sciopt\n",
    "from scipy.special import kn\n",
    "import numba as nb\n",
    "import pickle\n",
    "import funcs\n",
    "\n",
    "c=2.9792458e10#cm s-1\n",
    "mev2erg = 1.0218e-6\n",
    "mpc2 = 938.72*mev2erg # erg\n",
    "pi = np.pi\n",
    "day2sec=5184000\n",
    "Mpc2cm = 3.086e+24\n",
    "cgi2mJy = 1.e26\n",
    "\n",
    "T = 1*day2sec\n",
    "nu = 3e9\n",
    "n0 = 1.e-3 #cm-3\n",
    "eps_e = 0.5\n",
    "eps_b = 0.5\n",
    "theta_v = 0.25\n",
    "D_L = 41*Mpc2cm\n",
    "Gshmax = 100\n",
    "theta_G = 0.3\n",
    "theta_c = 0.059\n",
    "E_g = 1.16e52\n",
    "\n",
    "funcs.synchrotron_flux(T, nu, n0, eps_e, eps_b, theta_v, D_L, Gshmax, theta_G, theta_c, E_g) * cgi2mJy\n",
    "#theta=0.01\n",
    "#phi=0\n",
    "#a = funcs._flux_integrand(theta, phi, T, nu, n0, eps_e, eps_b, theta_v, Gshmax, theta_G, theta_c, E_g)\n",
    "#print(a)"
   ]
  },
  {
   "cell_type": "code",
   "execution_count": null,
   "id": "838f72c8",
   "metadata": {},
   "outputs": [],
   "source": [
    "from math import *\n",
    "theta=0.01\n",
    "phi=0\n",
    "\n",
    "mu = cos(theta)*cos(theta_v) + sin(theta)*sin(theta_v)*cos(phi) \n",
    "x = funcs.gaussian_profile(theta, theta_G, theta_c, E_g)/n0\n",
    "Tarr = np.logspace(-3,2, 100)\n",
    "tarr=np.zeros_like(Tarr)\n",
    "bsharr=np.zeros_like(Tarr)\n",
    "gsharr=np.zeros_like(Tarr)\n",
    "Rarr=np.zeros_like(Tarr)\n",
    "for i,T in enumerate(Tarr):\n",
    "    tarr[i] = funcs.find_emission_time(T*day2sec, x, Gshmax, mu)\n",
    "    bsharr[i] = sqrt(funcs.B2(tarr[i], x, Gshmax))\n",
    "    gsharr[i] = sqrt(funcs.G2(tarr[i], x, Gshmax))\n",
    "    Rarr[i] = funcs._R_over_c(tarr[i], x, Gshmax)*c\n",
    "fig, ax = plt.subplots(figsize=(10, 7), tight_layout=True)\n",
    "#ax.loglog(Tarr,gsharr)\n",
    "ax.loglog(Tarr,tarr)"
   ]
  },
  {
   "cell_type": "code",
   "execution_count": null,
   "id": "a2a88379",
   "metadata": {},
   "outputs": [],
   "source": [
    "xarr = np.logspace(-4,4,100)\n",
    "yarr = np.zeros_like(xarr)\n",
    "yarr2 = np.zeros_like(xarr)\n",
    "for i,x in enumerate(xarr):\n",
    "    yarr[i] = funcs._g2(x)\n",
    "    yarr2[i] = funcs._g(x)\n",
    "#1 + 4*kn(2,x) / x / (3*kn(3,x)+kn(1,x)-4*kn(2,x))\n",
    "fig, ax = plt.subplots(figsize=(10, 7), tight_layout=True)\n",
    "ax.semilogx(xarr,yarr)\n",
    "ax.semilogx(xarr, yarr2)\n",
    "ax.semilogx(xarr, 4/3*np.ones_like(xarr))\n",
    "ax.semilogx(xarr, 5/3*np.ones_like(xarr))\n",
    "ax.set_xlabel(r'$x$',fontsize=18)\n",
    "ax.set_ylabel(r'$\\hat{\\gamma}^\\prime$',fontsize=18)\n",
    "ax.set_title(r'ratio of specific heats of the shocked fluid (eq.11)',fontsize=18, color='r');"
   ]
  },
  {
   "cell_type": "code",
   "execution_count": null,
   "id": "4f88411a",
   "metadata": {},
   "outputs": [],
   "source": [
    "xarr = np.logspace(-5,5,100)\n",
    "g_arr = np.zeros_like(xarr)\n",
    "for i, x in enumerate(xarr):\n",
    "    g_arr[i] = funcs._G(x)\n",
    "fig, ax = plt.subplots(figsize=(10, 7), tight_layout=True)\n",
    "ax.plot(xarr, g_arr, '.')\n",
    "ax.plot(xarr, 1+1.5/xarr)\n",
    "ax.loglog(xarr, 3*xarr**(-1))\n",
    "#ax.loglog(xarr, 1+0*xarr)\n",
    "ax.set_xlabel(r'$x$',fontsize=18)\n",
    "ax.set_ylabel(r'$\\Gamma$',fontsize=18)\n",
    "ax.set_title(r'$\\Gamma(x) = \\frac{K_3(x)}{K_2(x)}-\\frac{1}{x}$ (Lorentz factor of the shocked fluid eq.12)',fontsize=18, color='r');"
   ]
  },
  {
   "cell_type": "code",
   "execution_count": null,
   "id": "db56317f",
   "metadata": {},
   "outputs": [],
   "source": [
    "gsh_arr = np.logspace(1.e-5,4,1000)\n",
    "zeta_arr = np.zeros_like(gsh_arr)\n",
    "for i, gsh in enumerate(gsh_arr):\n",
    "    zeta_arr[i] = funcs.find_zeta(gsh)\n",
    "fig, ax = plt.subplots(figsize=(10, 7), tight_layout=True)\n",
    "ax.loglog(gsh_arr, zeta_arr)\n",
    "ax.set_xlabel(r'$\\Gamma_{sh}$',fontsize=18)\n",
    "ax.set_ylabel(r'$x$',fontsize=18)\n",
    "ax.set_title(r'Values of x by root finding based on eq.5, as a function of $\\Gamma_{sh}$',fontsize=18, color='r');\n"
   ]
  },
  {
   "cell_type": "code",
   "execution_count": null,
   "id": "9abda717",
   "metadata": {},
   "outputs": [],
   "source": [
    "def e_index(gsh_bsh):\n",
    "    gsh = np.sqrt(gsh_bsh**2 + 1)\n",
    "    bsh = np.sqrt(1 - 1/gsh**2)\n",
    "    zeta = funcs.find_zeta(gsh)\n",
    "    p = funcs.e_index(zeta, bsh)\n",
    "    return p\n",
    "\n",
    "gsh_bsh = np.logspace(-2, 3,100)\n",
    "parr=np.zeros_like(gsh_bsh)\n",
    "for i,gb in enumerate(gsh_bsh):\n",
    "    parr[i] = e_index(gb)\n",
    "\n",
    "fig, ax = plt.subplots(figsize=(10, 7), tight_layout=True)\n",
    "ax.semilogx(gsh_bsh, parr)\n",
    "ax.semilogx(gsh_bsh, 2*np.ones_like(parr), '--')\n",
    "ax.semilogx(gsh_bsh, 20/9*np.ones_like(parr), '--')\n",
    "ax.set_xlabel(r'$\\Gamma_{sh}\\beta_{sh}$',fontsize=18)\n",
    "ax.set_ylabel(r'$p$',fontsize=18)\n",
    "ax.set_title(r'electron index',fontsize=18, color='r');\n"
   ]
  }
 ],
 "metadata": {
  "kernelspec": {
   "display_name": "Python 3 (ipykernel)",
   "language": "python",
   "name": "python3"
  },
  "language_info": {
   "codemirror_mode": {
    "name": "ipython",
    "version": 3
   },
   "file_extension": ".py",
   "mimetype": "text/x-python",
   "name": "python",
   "nbconvert_exporter": "python",
   "pygments_lexer": "ipython3",
   "version": "3.9.12"
  }
 },
 "nbformat": 4,
 "nbformat_minor": 5
}
